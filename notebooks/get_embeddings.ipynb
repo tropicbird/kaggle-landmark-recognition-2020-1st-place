{
 "cells": [
  {
   "cell_type": "code",
   "execution_count": null,
   "metadata": {},
   "outputs": [],
   "source": [
    "import sys\n",
    "import importlib\n",
    "from types import SimpleNamespace\n",
    "import matplotlib.pyplot as plt\n",
    "from tqdm.notebook import tqdm\n",
    "from scipy.special import softmax\n",
    "from joblib import Parallel, delayed\n",
    "import seaborn as sns\n",
    "\n",
    "sys.path.append(\"../src\")\n",
    "sys.path.append(\"../configs\")\n",
    "\n",
    "sys.argv = ['--config', 'config1']\n",
    "\n",
    "from models import *\n",
    "from loss import *\n",
    "from train import *\n",
    "from data import *\n",
    "\n",
    "def gpu_unravel(batch):\n",
    "        input_dict, target_dict = batch\n",
    "        input_dict = {k: input_dict[k].cuda() for k in input_dict}\n",
    "        target_dict = {k: target_dict[k].cuda() for k in target_dict}\n",
    "        return input_dict, target_dict\n",
    "    \n",
    "dict_unravel = gpu_unravel"
   ]
  },
  {
   "cell_type": "code",
   "execution_count": null,
   "metadata": {},
   "outputs": [],
   "source": [
    "name = \"config1\"\n",
    "pretrained_weights = \"../models/config1_ckpt_10.pth\"\n",
    "\n",
    "csv = \"train\"\n",
    "\n",
    "#このtrainはGLRv2のfull trainだと思う。\n",
    "train = pd.read_csv(f\"../embeddings/{csv}.csv\")\n",
    "\n",
    "train[\"img_folder\"] = \"/ssd/kaggle-landmark/input/train/\"\n",
    "train[\"target\"] = 0"
   ]
  },
  {
   "cell_type": "code",
   "execution_count": null,
   "metadata": {},
   "outputs": [],
   "source": [
    "aug = A.Compose([ \n",
    "                A.SmallestMaxSize(512),\n",
    "                A.CenterCrop(always_apply=False, p=1.0, height=512, width=512), \n",
    "                ], \n",
    "                p=1.0\n",
    "                )"
   ]
  },
  {
   "cell_type": "code",
   "execution_count": null,
   "metadata": {},
   "outputs": [],
   "source": [
    "val_ds = GLRDataset(train, normalization=args.normalization, aug=aug)\n",
    "\n",
    "batch_size = 512\n",
    "val_dl = DataLoader(dataset=val_ds,\n",
    "                    batch_size=batch_size,\n",
    "                    sampler=SequentialSampler(val_ds), collate_fn=collate_fn, num_workers=32, pin_memory=True)"
   ]
  },
  {
   "cell_type": "code",
   "execution_count": null,
   "metadata": {},
   "outputs": [],
   "source": [
    "model = Net(args)\n",
    "model.eval()\n",
    "model.cuda()\n",
    "\n",
    "model.load_state_dict(torch.load(pretrained_weights))\n",
    "\n",
    "model = nn.DataParallel(model)\n"
   ]
  },
  {
   "cell_type": "code",
   "execution_count": null,
   "metadata": {},
   "outputs": [],
   "source": [
    "def get_embeddings(dl, model):\n",
    "    with torch.no_grad():\n",
    "        embeddings = np.zeros((len(dl.dataset) , 512))\n",
    "        total = len(dl)\n",
    "        for idx, batch in tqdm(enumerate(dl), total=len(dl)):\n",
    "            input_dict, target_dict = dict_unravel(batch)\n",
    "\n",
    "            outs = model.forward(input_dict, get_embeddings=True)[\"embeddings\"]\n",
    "\n",
    "            embeddings[idx*batch_size:idx*batch_size+outs.size(0),:] = outs.detach().cpu().numpy()\n",
    "\n",
    "    return embeddings\n",
    "#landmark_id to calss_idは不要か。\n",
    "embeddings = get_embeddings(val_dl, model)"
   ]
  },
  {
   "cell_type": "code",
   "execution_count": null,
   "metadata": {},
   "outputs": [],
   "source": [
    "embeddings.shape"
   ]
  },
  {
   "cell_type": "code",
   "execution_count": 30,
   "metadata": {},
   "outputs": [],
   "source": [
    "np.save(f\"../embeddings/{name}_{csv}_embeddings\", embeddings)"
   ]
  },
  {
   "cell_type": "code",
   "execution_count": null,
   "metadata": {},
   "outputs": [],
   "source": []
  }
 ],
 "metadata": {
  "kernelspec": {
   "display_name": "Python 3 (ipykernel)",
   "language": "python",
   "name": "python3"
  },
  "language_info": {
   "codemirror_mode": {
    "name": "ipython",
    "version": 3
   },
   "file_extension": ".py",
   "mimetype": "text/x-python",
   "name": "python",
   "nbconvert_exporter": "python",
   "pygments_lexer": "ipython3",
   "version": "3.7.10"
  }
 },
 "nbformat": 4,
 "nbformat_minor": 4
}
