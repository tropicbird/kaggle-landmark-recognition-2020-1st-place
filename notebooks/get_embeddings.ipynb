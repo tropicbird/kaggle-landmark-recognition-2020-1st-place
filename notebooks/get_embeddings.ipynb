{
 "cells": [
  {
   "cell_type": "code",
   "execution_count": 1,
   "metadata": {},
   "outputs": [
    {
     "name": "stdout",
     "output_type": "stream",
     "text": [
      "Using config file config1\n"
     ]
    }
   ],
   "source": [
    "import sys\n",
    "import importlib\n",
    "from types import SimpleNamespace\n",
    "import matplotlib.pyplot as plt\n",
    "from tqdm.notebook import tqdm\n",
    "from scipy.special import softmax\n",
    "from joblib import Parallel, delayed\n",
    "import seaborn as sns\n",
    "\n",
    "sys.path.append(\"../src\")\n",
    "sys.path.append(\"../configs\")\n",
    "\n",
    "sys.argv = ['--config', 'config1']\n",
    "\n",
    "from models import *\n",
    "from loss import *\n",
    "from train import *\n",
    "from data import *\n",
    "\n",
    "def gpu_unravel(batch):\n",
    "        input_dict, target_dict = batch\n",
    "        input_dict = {k: input_dict[k].cuda() for k in input_dict}\n",
    "        target_dict = {k: target_dict[k].cuda() for k in target_dict}\n",
    "        return input_dict, target_dict\n",
    "    \n",
    "dict_unravel = gpu_unravel"
   ]
  },
  {
   "cell_type": "code",
   "execution_count": 2,
   "metadata": {},
   "outputs": [
    {
     "data": {
      "text/plain": [
       "'/home/ubuntu/kaggle/kaggle-landmark-recognition-2020-1st-place/notebooks'"
      ]
     },
     "execution_count": 2,
     "metadata": {},
     "output_type": "execute_result"
    }
   ],
   "source": [
    "pwd"
   ]
  },
  {
   "cell_type": "code",
   "execution_count": 14,
   "metadata": {},
   "outputs": [],
   "source": [
    "name = \"config1\"\n",
    "# pretrained_weights = \"../models/config1_ckpt_10.pth\"\n",
    "pretrained_weights = \"../models/config1/config1_ckpt_2.pth\"\n",
    "\n",
    "csv = \"train\"\n",
    "\n",
    "#このtrainはGLRv2のfull trainだと思う。\n",
    "# train = pd.read_csv(f\"../embeddings/{csv}.csv\")\n",
    "train = pd.read_csv(f\"../../input/GLDv2/{csv}.csv\")\n",
    "\n",
    "# train[\"img_folder\"] = \"/ssd/kaggle-landmark/input/train/\"\n",
    "train[\"img_folder\"] = \"../../input/GLDv2/train/\"\n",
    "# train[\"img_folder\"] = \"/home/ubuntu/kaggle/input/GLDv2/train/\"\n",
    "train[\"target\"] = 0"
   ]
  },
  {
   "cell_type": "code",
   "execution_count": 4,
   "metadata": {},
   "outputs": [
    {
     "data": {
      "text/html": [
       "<div>\n",
       "<style scoped>\n",
       "    .dataframe tbody tr th:only-of-type {\n",
       "        vertical-align: middle;\n",
       "    }\n",
       "\n",
       "    .dataframe tbody tr th {\n",
       "        vertical-align: top;\n",
       "    }\n",
       "\n",
       "    .dataframe thead th {\n",
       "        text-align: right;\n",
       "    }\n",
       "</style>\n",
       "<table border=\"1\" class=\"dataframe\">\n",
       "  <thead>\n",
       "    <tr style=\"text-align: right;\">\n",
       "      <th></th>\n",
       "      <th>id</th>\n",
       "      <th>url</th>\n",
       "      <th>landmark_id</th>\n",
       "      <th>img_folder</th>\n",
       "      <th>target</th>\n",
       "    </tr>\n",
       "  </thead>\n",
       "  <tbody>\n",
       "    <tr>\n",
       "      <th>0</th>\n",
       "      <td>6e158a47eb2ca3f6</td>\n",
       "      <td>https://upload.wikimedia.org/wikipedia/commons...</td>\n",
       "      <td>142820</td>\n",
       "      <td>/home/ubuntu/kaggle/input/GLDv2/train/</td>\n",
       "      <td>0</td>\n",
       "    </tr>\n",
       "    <tr>\n",
       "      <th>1</th>\n",
       "      <td>202cd79556f30760</td>\n",
       "      <td>http://upload.wikimedia.org/wikipedia/commons/...</td>\n",
       "      <td>104169</td>\n",
       "      <td>/home/ubuntu/kaggle/input/GLDv2/train/</td>\n",
       "      <td>0</td>\n",
       "    </tr>\n",
       "    <tr>\n",
       "      <th>2</th>\n",
       "      <td>3ad87684c99c06e1</td>\n",
       "      <td>http://upload.wikimedia.org/wikipedia/commons/...</td>\n",
       "      <td>37914</td>\n",
       "      <td>/home/ubuntu/kaggle/input/GLDv2/train/</td>\n",
       "      <td>0</td>\n",
       "    </tr>\n",
       "    <tr>\n",
       "      <th>3</th>\n",
       "      <td>e7f70e9c61e66af3</td>\n",
       "      <td>https://upload.wikimedia.org/wikipedia/commons...</td>\n",
       "      <td>102140</td>\n",
       "      <td>/home/ubuntu/kaggle/input/GLDv2/train/</td>\n",
       "      <td>0</td>\n",
       "    </tr>\n",
       "    <tr>\n",
       "      <th>4</th>\n",
       "      <td>4072182eddd0100e</td>\n",
       "      <td>https://upload.wikimedia.org/wikipedia/commons...</td>\n",
       "      <td>2474</td>\n",
       "      <td>/home/ubuntu/kaggle/input/GLDv2/train/</td>\n",
       "      <td>0</td>\n",
       "    </tr>\n",
       "    <tr>\n",
       "      <th>...</th>\n",
       "      <td>...</td>\n",
       "      <td>...</td>\n",
       "      <td>...</td>\n",
       "      <td>...</td>\n",
       "      <td>...</td>\n",
       "    </tr>\n",
       "    <tr>\n",
       "      <th>4132909</th>\n",
       "      <td>fc0f007893b11ba7</td>\n",
       "      <td>https://upload.wikimedia.org/wikipedia/commons...</td>\n",
       "      <td>172138</td>\n",
       "      <td>/home/ubuntu/kaggle/input/GLDv2/train/</td>\n",
       "      <td>0</td>\n",
       "    </tr>\n",
       "    <tr>\n",
       "      <th>4132910</th>\n",
       "      <td>39aad18585867916</td>\n",
       "      <td>https://upload.wikimedia.org/wikipedia/commons...</td>\n",
       "      <td>162860</td>\n",
       "      <td>/home/ubuntu/kaggle/input/GLDv2/train/</td>\n",
       "      <td>0</td>\n",
       "    </tr>\n",
       "    <tr>\n",
       "      <th>4132911</th>\n",
       "      <td>fd0725460e4ebbec</td>\n",
       "      <td>https://upload.wikimedia.org/wikipedia/commons...</td>\n",
       "      <td>191243</td>\n",
       "      <td>/home/ubuntu/kaggle/input/GLDv2/train/</td>\n",
       "      <td>0</td>\n",
       "    </tr>\n",
       "    <tr>\n",
       "      <th>4132912</th>\n",
       "      <td>73691ae29e24ba19</td>\n",
       "      <td>https://upload.wikimedia.org/wikipedia/commons...</td>\n",
       "      <td>145760</td>\n",
       "      <td>/home/ubuntu/kaggle/input/GLDv2/train/</td>\n",
       "      <td>0</td>\n",
       "    </tr>\n",
       "    <tr>\n",
       "      <th>4132913</th>\n",
       "      <td>8ef8dff6fc4790c2</td>\n",
       "      <td>https://upload.wikimedia.org/wikipedia/commons...</td>\n",
       "      <td>34698</td>\n",
       "      <td>/home/ubuntu/kaggle/input/GLDv2/train/</td>\n",
       "      <td>0</td>\n",
       "    </tr>\n",
       "  </tbody>\n",
       "</table>\n",
       "<p>4132914 rows × 5 columns</p>\n",
       "</div>"
      ],
      "text/plain": [
       "                       id                                                url  \\\n",
       "0        6e158a47eb2ca3f6  https://upload.wikimedia.org/wikipedia/commons...   \n",
       "1        202cd79556f30760  http://upload.wikimedia.org/wikipedia/commons/...   \n",
       "2        3ad87684c99c06e1  http://upload.wikimedia.org/wikipedia/commons/...   \n",
       "3        e7f70e9c61e66af3  https://upload.wikimedia.org/wikipedia/commons...   \n",
       "4        4072182eddd0100e  https://upload.wikimedia.org/wikipedia/commons...   \n",
       "...                   ...                                                ...   \n",
       "4132909  fc0f007893b11ba7  https://upload.wikimedia.org/wikipedia/commons...   \n",
       "4132910  39aad18585867916  https://upload.wikimedia.org/wikipedia/commons...   \n",
       "4132911  fd0725460e4ebbec  https://upload.wikimedia.org/wikipedia/commons...   \n",
       "4132912  73691ae29e24ba19  https://upload.wikimedia.org/wikipedia/commons...   \n",
       "4132913  8ef8dff6fc4790c2  https://upload.wikimedia.org/wikipedia/commons...   \n",
       "\n",
       "         landmark_id                              img_folder  target  \n",
       "0             142820  /home/ubuntu/kaggle/input/GLDv2/train/       0  \n",
       "1             104169  /home/ubuntu/kaggle/input/GLDv2/train/       0  \n",
       "2              37914  /home/ubuntu/kaggle/input/GLDv2/train/       0  \n",
       "3             102140  /home/ubuntu/kaggle/input/GLDv2/train/       0  \n",
       "4               2474  /home/ubuntu/kaggle/input/GLDv2/train/       0  \n",
       "...              ...                                     ...     ...  \n",
       "4132909       172138  /home/ubuntu/kaggle/input/GLDv2/train/       0  \n",
       "4132910       162860  /home/ubuntu/kaggle/input/GLDv2/train/       0  \n",
       "4132911       191243  /home/ubuntu/kaggle/input/GLDv2/train/       0  \n",
       "4132912       145760  /home/ubuntu/kaggle/input/GLDv2/train/       0  \n",
       "4132913        34698  /home/ubuntu/kaggle/input/GLDv2/train/       0  \n",
       "\n",
       "[4132914 rows x 5 columns]"
      ]
     },
     "execution_count": 4,
     "metadata": {},
     "output_type": "execute_result"
    }
   ],
   "source": [
    "train"
   ]
  },
  {
   "cell_type": "code",
   "execution_count": 5,
   "metadata": {},
   "outputs": [],
   "source": [
    "aug = A.Compose([ \n",
    "                A.SmallestMaxSize(512),\n",
    "                A.CenterCrop(always_apply=False, p=1.0, height=512, width=512), \n",
    "                ], \n",
    "                p=1.0\n",
    "                )"
   ]
  },
  {
   "cell_type": "code",
   "execution_count": 6,
   "metadata": {},
   "outputs": [
    {
     "data": {
      "text/plain": [
       "192"
      ]
     },
     "execution_count": 6,
     "metadata": {},
     "output_type": "execute_result"
    }
   ],
   "source": [
    "64*3"
   ]
  },
  {
   "cell_type": "code",
   "execution_count": 19,
   "metadata": {},
   "outputs": [],
   "source": [
    "val_ds = GLRDataset(train, normalization=args.normalization, aug=aug)\n",
    "\n",
    "batch_size = 256\n",
    "val_dl = DataLoader(dataset=val_ds,\n",
    "                    batch_size=batch_size,\n",
    "                    sampler=SequentialSampler(val_ds), collate_fn=collate_fn, num_workers=40, pin_memory=True)"
   ]
  },
  {
   "cell_type": "code",
   "execution_count": null,
   "metadata": {},
   "outputs": [],
   "source": [
    "img = cv2.imread(\"/home/ubuntu/kaggle/input/GLDv2/train/\""
   ]
  },
  {
   "cell_type": "code",
   "execution_count": 19,
   "metadata": {},
   "outputs": [
    {
     "data": {
      "text/plain": [
       "array([[[ 28,  67, 124],\n",
       "        [ 30,  69, 126],\n",
       "        [ 32,  71, 128],\n",
       "        ...,\n",
       "        [ 29,  65, 123],\n",
       "        [ 27,  63, 121],\n",
       "        [ 27,  63, 121]],\n",
       "\n",
       "       [[ 31,  70, 127],\n",
       "        [ 31,  70, 127],\n",
       "        [ 32,  71, 128],\n",
       "        ...,\n",
       "        [ 27,  63, 121],\n",
       "        [ 28,  64, 122],\n",
       "        [ 29,  65, 123]],\n",
       "\n",
       "       [[ 32,  71, 128],\n",
       "        [ 32,  71, 128],\n",
       "        [ 32,  71, 128],\n",
       "        ...,\n",
       "        [ 29,  65, 123],\n",
       "        [ 29,  65, 123],\n",
       "        [ 30,  66, 124]],\n",
       "\n",
       "       ...,\n",
       "\n",
       "       [[ 21,  25,  26],\n",
       "        [ 23,  27,  28],\n",
       "        [ 16,  17,  19],\n",
       "        ...,\n",
       "        [ 10,  11,  13],\n",
       "        [ 11,  12,  14],\n",
       "        [ 13,  14,  16]],\n",
       "\n",
       "       [[ 24,  28,  31],\n",
       "        [  9,  13,  14],\n",
       "        [ 11,  12,  14],\n",
       "        ...,\n",
       "        [  7,   7,   9],\n",
       "        [  7,   7,   9],\n",
       "        [  8,   8,  10]],\n",
       "\n",
       "       [[ 29,  33,  36],\n",
       "        [ 14,  18,  21],\n",
       "        [ 15,  16,  18],\n",
       "        ...,\n",
       "        [ 13,  13,  15],\n",
       "        [ 15,  15,  17],\n",
       "        [ 17,  17,  19]]], dtype=uint8)"
      ]
     },
     "execution_count": 19,
     "metadata": {},
     "output_type": "execute_result"
    }
   ],
   "source": [
    "val_ds.load_one('312777185f4d71f1',\"/home/ubuntu/kaggle/input/GLDv2/train/\")"
   ]
  },
  {
   "cell_type": "code",
   "execution_count": 16,
   "metadata": {},
   "outputs": [
    {
     "data": {
      "text/plain": [
       "Compose([\n",
       "  SmallestMaxSize(always_apply=False, p=1, max_size=512, interpolation=1),\n",
       "  CenterCrop(always_apply=False, p=1.0, height=512, width=512),\n",
       "], p=1.0, bbox_params=None, keypoint_params=None, additional_targets={})"
      ]
     },
     "execution_count": 16,
     "metadata": {},
     "output_type": "execute_result"
    }
   ],
   "source": [
    "aug"
   ]
  },
  {
   "cell_type": "code",
   "execution_count": 15,
   "metadata": {},
   "outputs": [
    {
     "data": {
      "text/plain": [
       "<data.GLRDataset at 0x7f50c30b5590>"
      ]
     },
     "execution_count": 15,
     "metadata": {},
     "output_type": "execute_result"
    }
   ],
   "source": [
    "val_ds"
   ]
  },
  {
   "cell_type": "code",
   "execution_count": 12,
   "metadata": {},
   "outputs": [],
   "source": [
    "model = Net(args)\n",
    "model.eval()\n",
    "model.cuda()\n",
    "\n",
    "model.load_state_dict(torch.load(pretrained_weights))\n",
    "\n",
    "model = nn.DataParallel(model)\n"
   ]
  },
  {
   "cell_type": "code",
   "execution_count": 8,
   "metadata": {},
   "outputs": [
    {
     "data": {
      "text/plain": [
       "'/home/ubuntu/kaggle/kaggle-landmark-recognition-2020-1st-place/notebooks'"
      ]
     },
     "execution_count": 8,
     "metadata": {},
     "output_type": "execute_result"
    }
   ],
   "source": [
    "pwd"
   ]
  },
  {
   "cell_type": "code",
   "execution_count": null,
   "metadata": {},
   "outputs": [
    {
     "data": {
      "application/vnd.jupyter.widget-view+json": {
       "model_id": "ee1c3e46e10648088ce71641b1e9c41a",
       "version_major": 2,
       "version_minor": 0
      },
      "text/plain": [
       "  0%|          | 0/16145 [00:00<?, ?it/s]"
      ]
     },
     "metadata": {},
     "output_type": "display_data"
    }
   ],
   "source": [
    "def get_embeddings(dl, model):\n",
    "    with torch.no_grad():\n",
    "        embeddings = np.zeros((len(dl.dataset) , 512))\n",
    "        total = len(dl)\n",
    "        for idx, batch in tqdm(enumerate(dl), total=len(dl)):\n",
    "            input_dict, target_dict = dict_unravel(batch)\n",
    "\n",
    "            outs = model.forward(input_dict, get_embeddings=True)[\"embeddings\"]\n",
    "\n",
    "            embeddings[idx*batch_size:idx*batch_size+outs.size(0),:] = outs.detach().cpu().numpy()\n",
    "\n",
    "    return embeddings\n",
    "#landmark_id to calss_idは不要か。\n",
    "embeddings = get_embeddings(val_dl, model)\n",
    "print(embeddings.shape)\n",
    "np.save(f\"../embeddings/{name}_{csv}_embeddings\", embeddings)"
   ]
  },
  {
   "cell_type": "code",
   "execution_count": 23,
   "metadata": {},
   "outputs": [
    {
     "data": {
      "application/vnd.jupyter.widget-view+json": {
       "model_id": "4749c21df5e04d48a1e8f8130885332d",
       "version_major": 2,
       "version_minor": 0
      },
      "text/plain": [
       "  0%|          | 0/172205 [00:00<?, ?it/s]"
      ]
     },
     "metadata": {},
     "output_type": "display_data"
    },
    {
     "name": "stdout",
     "output_type": "stream",
     "text": [
      "FAIL READING IMG "
     ]
    },
    {
     "ename": "KeyboardInterrupt",
     "evalue": "",
     "output_type": "error",
     "traceback": [
      "\u001b[0;31m---------------------------------------------------------------------------\u001b[0m",
      "\u001b[0;31mKeyboardInterrupt\u001b[0m                         Traceback (most recent call last)",
      "\u001b[0;32m/tmp/ipykernel_110782/343487778.py\u001b[0m in \u001b[0;36m<module>\u001b[0;34m\u001b[0m\n\u001b[1;32m      5\u001b[0m         \u001b[0minput_dict\u001b[0m\u001b[0;34m,\u001b[0m \u001b[0mtarget_dict\u001b[0m \u001b[0;34m=\u001b[0m \u001b[0mdict_unravel\u001b[0m\u001b[0;34m(\u001b[0m\u001b[0mbatch\u001b[0m\u001b[0;34m)\u001b[0m\u001b[0;34m\u001b[0m\u001b[0;34m\u001b[0m\u001b[0m\n\u001b[1;32m      6\u001b[0m \u001b[0;34m\u001b[0m\u001b[0m\n\u001b[0;32m----> 7\u001b[0;31m         \u001b[0mouts\u001b[0m \u001b[0;34m=\u001b[0m \u001b[0mmodel\u001b[0m\u001b[0;34m.\u001b[0m\u001b[0mforward\u001b[0m\u001b[0;34m(\u001b[0m\u001b[0minput_dict\u001b[0m\u001b[0;34m,\u001b[0m \u001b[0mget_embeddings\u001b[0m\u001b[0;34m=\u001b[0m\u001b[0;32mTrue\u001b[0m\u001b[0;34m)\u001b[0m\u001b[0;34m[\u001b[0m\u001b[0;34m\"embeddings\"\u001b[0m\u001b[0;34m]\u001b[0m\u001b[0;34m\u001b[0m\u001b[0;34m\u001b[0m\u001b[0m\n\u001b[0m\u001b[1;32m      8\u001b[0m \u001b[0;34m\u001b[0m\u001b[0m\n\u001b[1;32m      9\u001b[0m         \u001b[0membeddings\u001b[0m\u001b[0;34m[\u001b[0m\u001b[0midx\u001b[0m\u001b[0;34m*\u001b[0m\u001b[0mbatch_size\u001b[0m\u001b[0;34m:\u001b[0m\u001b[0midx\u001b[0m\u001b[0;34m*\u001b[0m\u001b[0mbatch_size\u001b[0m\u001b[0;34m+\u001b[0m\u001b[0mouts\u001b[0m\u001b[0;34m.\u001b[0m\u001b[0msize\u001b[0m\u001b[0;34m(\u001b[0m\u001b[0;36m0\u001b[0m\u001b[0;34m)\u001b[0m\u001b[0;34m,\u001b[0m\u001b[0;34m:\u001b[0m\u001b[0;34m]\u001b[0m \u001b[0;34m=\u001b[0m \u001b[0mouts\u001b[0m\u001b[0;34m.\u001b[0m\u001b[0mdetach\u001b[0m\u001b[0;34m(\u001b[0m\u001b[0;34m)\u001b[0m\u001b[0;34m.\u001b[0m\u001b[0mcpu\u001b[0m\u001b[0;34m(\u001b[0m\u001b[0;34m)\u001b[0m\u001b[0;34m.\u001b[0m\u001b[0mnumpy\u001b[0m\u001b[0;34m(\u001b[0m\u001b[0;34m)\u001b[0m\u001b[0;34m\u001b[0m\u001b[0;34m\u001b[0m\u001b[0m\n",
      "\u001b[0;32m~/anaconda3/envs/pytorch_p37/lib/python3.7/site-packages/torch/nn/parallel/data_parallel.py\u001b[0m in \u001b[0;36mforward\u001b[0;34m(self, *inputs, **kwargs)\u001b[0m\n\u001b[1;32m    152\u001b[0m         \u001b[0;32mif\u001b[0m \u001b[0mlen\u001b[0m\u001b[0;34m(\u001b[0m\u001b[0mself\u001b[0m\u001b[0;34m.\u001b[0m\u001b[0mdevice_ids\u001b[0m\u001b[0;34m)\u001b[0m \u001b[0;34m==\u001b[0m \u001b[0;36m1\u001b[0m\u001b[0;34m:\u001b[0m\u001b[0;34m\u001b[0m\u001b[0;34m\u001b[0m\u001b[0m\n\u001b[1;32m    153\u001b[0m             \u001b[0;32mreturn\u001b[0m \u001b[0mself\u001b[0m\u001b[0;34m.\u001b[0m\u001b[0mmodule\u001b[0m\u001b[0;34m(\u001b[0m\u001b[0;34m*\u001b[0m\u001b[0minputs\u001b[0m\u001b[0;34m[\u001b[0m\u001b[0;36m0\u001b[0m\u001b[0;34m]\u001b[0m\u001b[0;34m,\u001b[0m \u001b[0;34m**\u001b[0m\u001b[0mkwargs\u001b[0m\u001b[0;34m[\u001b[0m\u001b[0;36m0\u001b[0m\u001b[0;34m]\u001b[0m\u001b[0;34m)\u001b[0m\u001b[0;34m\u001b[0m\u001b[0;34m\u001b[0m\u001b[0m\n\u001b[0;32m--> 154\u001b[0;31m         \u001b[0mreplicas\u001b[0m \u001b[0;34m=\u001b[0m \u001b[0mself\u001b[0m\u001b[0;34m.\u001b[0m\u001b[0mreplicate\u001b[0m\u001b[0;34m(\u001b[0m\u001b[0mself\u001b[0m\u001b[0;34m.\u001b[0m\u001b[0mmodule\u001b[0m\u001b[0;34m,\u001b[0m \u001b[0mself\u001b[0m\u001b[0;34m.\u001b[0m\u001b[0mdevice_ids\u001b[0m\u001b[0;34m[\u001b[0m\u001b[0;34m:\u001b[0m\u001b[0mlen\u001b[0m\u001b[0;34m(\u001b[0m\u001b[0minputs\u001b[0m\u001b[0;34m)\u001b[0m\u001b[0;34m]\u001b[0m\u001b[0;34m)\u001b[0m\u001b[0;34m\u001b[0m\u001b[0;34m\u001b[0m\u001b[0m\n\u001b[0m\u001b[1;32m    155\u001b[0m         \u001b[0moutputs\u001b[0m \u001b[0;34m=\u001b[0m \u001b[0mself\u001b[0m\u001b[0;34m.\u001b[0m\u001b[0mparallel_apply\u001b[0m\u001b[0;34m(\u001b[0m\u001b[0mreplicas\u001b[0m\u001b[0;34m,\u001b[0m \u001b[0minputs\u001b[0m\u001b[0;34m,\u001b[0m \u001b[0mkwargs\u001b[0m\u001b[0;34m)\u001b[0m\u001b[0;34m\u001b[0m\u001b[0;34m\u001b[0m\u001b[0m\n\u001b[1;32m    156\u001b[0m         \u001b[0;32mreturn\u001b[0m \u001b[0mself\u001b[0m\u001b[0;34m.\u001b[0m\u001b[0mgather\u001b[0m\u001b[0;34m(\u001b[0m\u001b[0moutputs\u001b[0m\u001b[0;34m,\u001b[0m \u001b[0mself\u001b[0m\u001b[0;34m.\u001b[0m\u001b[0moutput_device\u001b[0m\u001b[0;34m)\u001b[0m\u001b[0;34m\u001b[0m\u001b[0;34m\u001b[0m\u001b[0m\n",
      "\u001b[0;32m~/anaconda3/envs/pytorch_p37/lib/python3.7/site-packages/torch/nn/parallel/data_parallel.py\u001b[0m in \u001b[0;36mreplicate\u001b[0;34m(self, module, device_ids)\u001b[0m\n\u001b[1;32m    157\u001b[0m \u001b[0;34m\u001b[0m\u001b[0m\n\u001b[1;32m    158\u001b[0m     \u001b[0;32mdef\u001b[0m \u001b[0mreplicate\u001b[0m\u001b[0;34m(\u001b[0m\u001b[0mself\u001b[0m\u001b[0;34m,\u001b[0m \u001b[0mmodule\u001b[0m\u001b[0;34m,\u001b[0m \u001b[0mdevice_ids\u001b[0m\u001b[0;34m)\u001b[0m\u001b[0;34m:\u001b[0m\u001b[0;34m\u001b[0m\u001b[0;34m\u001b[0m\u001b[0m\n\u001b[0;32m--> 159\u001b[0;31m         \u001b[0;32mreturn\u001b[0m \u001b[0mreplicate\u001b[0m\u001b[0;34m(\u001b[0m\u001b[0mmodule\u001b[0m\u001b[0;34m,\u001b[0m \u001b[0mdevice_ids\u001b[0m\u001b[0;34m,\u001b[0m \u001b[0;32mnot\u001b[0m \u001b[0mtorch\u001b[0m\u001b[0;34m.\u001b[0m\u001b[0mis_grad_enabled\u001b[0m\u001b[0;34m(\u001b[0m\u001b[0;34m)\u001b[0m\u001b[0;34m)\u001b[0m\u001b[0;34m\u001b[0m\u001b[0;34m\u001b[0m\u001b[0m\n\u001b[0m\u001b[1;32m    160\u001b[0m \u001b[0;34m\u001b[0m\u001b[0m\n\u001b[1;32m    161\u001b[0m     \u001b[0;32mdef\u001b[0m \u001b[0mscatter\u001b[0m\u001b[0;34m(\u001b[0m\u001b[0mself\u001b[0m\u001b[0;34m,\u001b[0m \u001b[0minputs\u001b[0m\u001b[0;34m,\u001b[0m \u001b[0mkwargs\u001b[0m\u001b[0;34m,\u001b[0m \u001b[0mdevice_ids\u001b[0m\u001b[0;34m)\u001b[0m\u001b[0;34m:\u001b[0m\u001b[0;34m\u001b[0m\u001b[0;34m\u001b[0m\u001b[0m\n",
      "\u001b[0;32m~/anaconda3/envs/pytorch_p37/lib/python3.7/site-packages/torch/nn/parallel/replicate.py\u001b[0m in \u001b[0;36mreplicate\u001b[0;34m(network, devices, detach)\u001b[0m\n\u001b[1;32m     77\u001b[0m \u001b[0;34m\u001b[0m\u001b[0m\n\u001b[1;32m     78\u001b[0m \u001b[0;32mdef\u001b[0m \u001b[0mreplicate\u001b[0m\u001b[0;34m(\u001b[0m\u001b[0mnetwork\u001b[0m\u001b[0;34m,\u001b[0m \u001b[0mdevices\u001b[0m\u001b[0;34m,\u001b[0m \u001b[0mdetach\u001b[0m\u001b[0;34m=\u001b[0m\u001b[0;32mFalse\u001b[0m\u001b[0;34m)\u001b[0m\u001b[0;34m:\u001b[0m\u001b[0;34m\u001b[0m\u001b[0;34m\u001b[0m\u001b[0m\n\u001b[0;32m---> 79\u001b[0;31m     \u001b[0;32mif\u001b[0m \u001b[0;32mnot\u001b[0m \u001b[0m_replicatable_module\u001b[0m\u001b[0;34m(\u001b[0m\u001b[0mnetwork\u001b[0m\u001b[0;34m)\u001b[0m\u001b[0;34m:\u001b[0m\u001b[0;34m\u001b[0m\u001b[0;34m\u001b[0m\u001b[0m\n\u001b[0m\u001b[1;32m     80\u001b[0m         raise RuntimeError(\"Cannot replicate network where python modules are \"\n\u001b[1;32m     81\u001b[0m                            \"childrens of ScriptModule\")\n",
      "\u001b[0;32m~/anaconda3/envs/pytorch_p37/lib/python3.7/site-packages/torch/nn/parallel/replicate.py\u001b[0m in \u001b[0;36m_replicatable_module\u001b[0;34m(module, memo)\u001b[0m\n\u001b[1;32m     57\u001b[0m         \u001b[0;32mif\u001b[0m \u001b[0mchild\u001b[0m \u001b[0;32min\u001b[0m \u001b[0mmemo\u001b[0m\u001b[0;34m:\u001b[0m\u001b[0;34m\u001b[0m\u001b[0;34m\u001b[0m\u001b[0m\n\u001b[1;32m     58\u001b[0m             \u001b[0;32mcontinue\u001b[0m\u001b[0;34m\u001b[0m\u001b[0;34m\u001b[0m\u001b[0m\n\u001b[0;32m---> 59\u001b[0;31m         \u001b[0;32mif\u001b[0m \u001b[0;32mnot\u001b[0m \u001b[0m_replicatable_module\u001b[0m\u001b[0;34m(\u001b[0m\u001b[0mchild\u001b[0m\u001b[0;34m,\u001b[0m \u001b[0mmemo\u001b[0m\u001b[0;34m)\u001b[0m\u001b[0;34m:\u001b[0m\u001b[0;34m\u001b[0m\u001b[0;34m\u001b[0m\u001b[0m\n\u001b[0m\u001b[1;32m     60\u001b[0m             \u001b[0;32mreturn\u001b[0m \u001b[0;32mFalse\u001b[0m\u001b[0;34m\u001b[0m\u001b[0;34m\u001b[0m\u001b[0m\n\u001b[1;32m     61\u001b[0m \u001b[0;34m\u001b[0m\u001b[0m\n",
      "\u001b[0;32m~/anaconda3/envs/pytorch_p37/lib/python3.7/site-packages/torch/nn/parallel/replicate.py\u001b[0m in \u001b[0;36m_replicatable_module\u001b[0;34m(module, memo)\u001b[0m\n\u001b[1;32m     57\u001b[0m         \u001b[0;32mif\u001b[0m \u001b[0mchild\u001b[0m \u001b[0;32min\u001b[0m \u001b[0mmemo\u001b[0m\u001b[0;34m:\u001b[0m\u001b[0;34m\u001b[0m\u001b[0;34m\u001b[0m\u001b[0m\n\u001b[1;32m     58\u001b[0m             \u001b[0;32mcontinue\u001b[0m\u001b[0;34m\u001b[0m\u001b[0;34m\u001b[0m\u001b[0m\n\u001b[0;32m---> 59\u001b[0;31m         \u001b[0;32mif\u001b[0m \u001b[0;32mnot\u001b[0m \u001b[0m_replicatable_module\u001b[0m\u001b[0;34m(\u001b[0m\u001b[0mchild\u001b[0m\u001b[0;34m,\u001b[0m \u001b[0mmemo\u001b[0m\u001b[0;34m)\u001b[0m\u001b[0;34m:\u001b[0m\u001b[0;34m\u001b[0m\u001b[0;34m\u001b[0m\u001b[0m\n\u001b[0m\u001b[1;32m     60\u001b[0m             \u001b[0;32mreturn\u001b[0m \u001b[0;32mFalse\u001b[0m\u001b[0;34m\u001b[0m\u001b[0;34m\u001b[0m\u001b[0m\n\u001b[1;32m     61\u001b[0m \u001b[0;34m\u001b[0m\u001b[0m\n",
      "\u001b[0;32m~/anaconda3/envs/pytorch_p37/lib/python3.7/site-packages/torch/nn/parallel/replicate.py\u001b[0m in \u001b[0;36m_replicatable_module\u001b[0;34m(module, memo)\u001b[0m\n\u001b[1;32m     57\u001b[0m         \u001b[0;32mif\u001b[0m \u001b[0mchild\u001b[0m \u001b[0;32min\u001b[0m \u001b[0mmemo\u001b[0m\u001b[0;34m:\u001b[0m\u001b[0;34m\u001b[0m\u001b[0;34m\u001b[0m\u001b[0m\n\u001b[1;32m     58\u001b[0m             \u001b[0;32mcontinue\u001b[0m\u001b[0;34m\u001b[0m\u001b[0;34m\u001b[0m\u001b[0m\n\u001b[0;32m---> 59\u001b[0;31m         \u001b[0;32mif\u001b[0m \u001b[0;32mnot\u001b[0m \u001b[0m_replicatable_module\u001b[0m\u001b[0;34m(\u001b[0m\u001b[0mchild\u001b[0m\u001b[0;34m,\u001b[0m \u001b[0mmemo\u001b[0m\u001b[0;34m)\u001b[0m\u001b[0;34m:\u001b[0m\u001b[0;34m\u001b[0m\u001b[0;34m\u001b[0m\u001b[0m\n\u001b[0m\u001b[1;32m     60\u001b[0m             \u001b[0;32mreturn\u001b[0m \u001b[0;32mFalse\u001b[0m\u001b[0;34m\u001b[0m\u001b[0;34m\u001b[0m\u001b[0m\n\u001b[1;32m     61\u001b[0m \u001b[0;34m\u001b[0m\u001b[0m\n",
      "\u001b[0;32m~/anaconda3/envs/pytorch_p37/lib/python3.7/site-packages/torch/nn/parallel/replicate.py\u001b[0m in \u001b[0;36m_replicatable_module\u001b[0;34m(module, memo)\u001b[0m\n\u001b[1;32m     57\u001b[0m         \u001b[0;32mif\u001b[0m \u001b[0mchild\u001b[0m \u001b[0;32min\u001b[0m \u001b[0mmemo\u001b[0m\u001b[0;34m:\u001b[0m\u001b[0;34m\u001b[0m\u001b[0;34m\u001b[0m\u001b[0m\n\u001b[1;32m     58\u001b[0m             \u001b[0;32mcontinue\u001b[0m\u001b[0;34m\u001b[0m\u001b[0;34m\u001b[0m\u001b[0m\n\u001b[0;32m---> 59\u001b[0;31m         \u001b[0;32mif\u001b[0m \u001b[0;32mnot\u001b[0m \u001b[0m_replicatable_module\u001b[0m\u001b[0;34m(\u001b[0m\u001b[0mchild\u001b[0m\u001b[0;34m,\u001b[0m \u001b[0mmemo\u001b[0m\u001b[0;34m)\u001b[0m\u001b[0;34m:\u001b[0m\u001b[0;34m\u001b[0m\u001b[0;34m\u001b[0m\u001b[0m\n\u001b[0m\u001b[1;32m     60\u001b[0m             \u001b[0;32mreturn\u001b[0m \u001b[0;32mFalse\u001b[0m\u001b[0;34m\u001b[0m\u001b[0;34m\u001b[0m\u001b[0m\n\u001b[1;32m     61\u001b[0m \u001b[0;34m\u001b[0m\u001b[0m\n",
      "\u001b[0;32m~/anaconda3/envs/pytorch_p37/lib/python3.7/site-packages/torch/nn/parallel/replicate.py\u001b[0m in \u001b[0;36m_replicatable_module\u001b[0;34m(module, memo)\u001b[0m\n\u001b[1;32m     57\u001b[0m         \u001b[0;32mif\u001b[0m \u001b[0mchild\u001b[0m \u001b[0;32min\u001b[0m \u001b[0mmemo\u001b[0m\u001b[0;34m:\u001b[0m\u001b[0;34m\u001b[0m\u001b[0;34m\u001b[0m\u001b[0m\n\u001b[1;32m     58\u001b[0m             \u001b[0;32mcontinue\u001b[0m\u001b[0;34m\u001b[0m\u001b[0;34m\u001b[0m\u001b[0m\n\u001b[0;32m---> 59\u001b[0;31m         \u001b[0;32mif\u001b[0m \u001b[0;32mnot\u001b[0m \u001b[0m_replicatable_module\u001b[0m\u001b[0;34m(\u001b[0m\u001b[0mchild\u001b[0m\u001b[0;34m,\u001b[0m \u001b[0mmemo\u001b[0m\u001b[0;34m)\u001b[0m\u001b[0;34m:\u001b[0m\u001b[0;34m\u001b[0m\u001b[0;34m\u001b[0m\u001b[0m\n\u001b[0m\u001b[1;32m     60\u001b[0m             \u001b[0;32mreturn\u001b[0m \u001b[0;32mFalse\u001b[0m\u001b[0;34m\u001b[0m\u001b[0;34m\u001b[0m\u001b[0m\n\u001b[1;32m     61\u001b[0m \u001b[0;34m\u001b[0m\u001b[0m\n",
      "\u001b[0;32m~/anaconda3/envs/pytorch_p37/lib/python3.7/site-packages/torch/nn/parallel/replicate.py\u001b[0m in \u001b[0;36m_replicatable_module\u001b[0;34m(module, memo)\u001b[0m\n\u001b[1;32m     52\u001b[0m                    descendant in descendant_modules(module))\n\u001b[1;32m     53\u001b[0m \u001b[0;34m\u001b[0m\u001b[0m\n\u001b[0;32m---> 54\u001b[0;31m     \u001b[0;32mfor\u001b[0m \u001b[0mchild\u001b[0m \u001b[0;32min\u001b[0m \u001b[0mmodule\u001b[0m\u001b[0;34m.\u001b[0m\u001b[0mchildren\u001b[0m\u001b[0;34m(\u001b[0m\u001b[0;34m)\u001b[0m\u001b[0;34m:\u001b[0m\u001b[0;34m\u001b[0m\u001b[0;34m\u001b[0m\u001b[0m\n\u001b[0m\u001b[1;32m     55\u001b[0m         \u001b[0;31m# since any unreplicatable module will cause the check to return\u001b[0m\u001b[0;34m\u001b[0m\u001b[0;34m\u001b[0m\u001b[0;34m\u001b[0m\u001b[0m\n\u001b[1;32m     56\u001b[0m         \u001b[0;31m# False early, visited modules here can be safely ignored.\u001b[0m\u001b[0;34m\u001b[0m\u001b[0;34m\u001b[0m\u001b[0;34m\u001b[0m\u001b[0m\n",
      "\u001b[0;32m~/anaconda3/envs/pytorch_p37/lib/python3.7/site-packages/torch/nn/modules/module.py\u001b[0m in \u001b[0;36mchildren\u001b[0;34m(self)\u001b[0m\n\u001b[1;32m   1163\u001b[0m             \u001b[0mModule\u001b[0m\u001b[0;34m:\u001b[0m \u001b[0ma\u001b[0m \u001b[0mchild\u001b[0m \u001b[0mmodule\u001b[0m\u001b[0;34m\u001b[0m\u001b[0;34m\u001b[0m\u001b[0m\n\u001b[1;32m   1164\u001b[0m         \"\"\"\n\u001b[0;32m-> 1165\u001b[0;31m         \u001b[0;32mfor\u001b[0m \u001b[0mname\u001b[0m\u001b[0;34m,\u001b[0m \u001b[0mmodule\u001b[0m \u001b[0;32min\u001b[0m \u001b[0mself\u001b[0m\u001b[0;34m.\u001b[0m\u001b[0mnamed_children\u001b[0m\u001b[0;34m(\u001b[0m\u001b[0;34m)\u001b[0m\u001b[0;34m:\u001b[0m\u001b[0;34m\u001b[0m\u001b[0;34m\u001b[0m\u001b[0m\n\u001b[0m\u001b[1;32m   1166\u001b[0m             \u001b[0;32myield\u001b[0m \u001b[0mmodule\u001b[0m\u001b[0;34m\u001b[0m\u001b[0;34m\u001b[0m\u001b[0m\n\u001b[1;32m   1167\u001b[0m \u001b[0;34m\u001b[0m\u001b[0m\n",
      "\u001b[0;31mKeyboardInterrupt\u001b[0m: "
     ]
    },
    {
     "name": "stdout",
     "output_type": "stream",
     "text": [
      "/home/ubuntu/kaggle/input/GLDv2/train/5/f/7/5f7105e2932daa07.jpg\n"
     ]
    }
   ],
   "source": [
    "with torch.no_grad():\n",
    "    embeddings = np.zeros((len(val_dl.dataset) , 512))\n",
    "    total = len(val_dl)\n",
    "    for idx, batch in tqdm(enumerate(val_dl), total=len(val_dl)):\n",
    "        input_dict, target_dict = dict_unravel(batch)\n",
    "\n",
    "        outs = model.forward(input_dict, get_embeddings=True)[\"embeddings\"]\n",
    "\n",
    "        embeddings[idx*batch_size:idx*batch_size+outs.size(0),:] = outs.detach().cpu().numpy()"
   ]
  },
  {
   "cell_type": "code",
   "execution_count": 9,
   "metadata": {},
   "outputs": [
    {
     "data": {
      "text/plain": [
       "(4132914, 512)"
      ]
     },
     "execution_count": 9,
     "metadata": {},
     "output_type": "execute_result"
    }
   ],
   "source": [
    "embeddings = np.zeros((len(val_dl.dataset) , 512))\n",
    "embeddings.shape"
   ]
  },
  {
   "cell_type": "code",
   "execution_count": 12,
   "metadata": {},
   "outputs": [
    {
     "ename": "NameError",
     "evalue": "name 'idx' is not defined",
     "output_type": "error",
     "traceback": [
      "\u001b[0;31m---------------------------------------------------------------------------\u001b[0m",
      "\u001b[0;31mNameError\u001b[0m                                 Traceback (most recent call last)",
      "\u001b[0;32m/tmp/ipykernel_110782/3490336722.py\u001b[0m in \u001b[0;36m<module>\u001b[0;34m\u001b[0m\n\u001b[0;32m----> 1\u001b[0;31m \u001b[0midx\u001b[0m\u001b[0;34m\u001b[0m\u001b[0;34m\u001b[0m\u001b[0m\n\u001b[0m",
      "\u001b[0;31mNameError\u001b[0m: name 'idx' is not defined"
     ]
    }
   ],
   "source": [
    "idx"
   ]
  },
  {
   "cell_type": "code",
   "execution_count": 21,
   "metadata": {},
   "outputs": [],
   "source": [
    "for b in val_dl:\n",
    "    break"
   ]
  },
  {
   "cell_type": "code",
   "execution_count": 22,
   "metadata": {},
   "outputs": [
    {
     "data": {
      "text/plain": [
       "[{'input': tensor([[[[ 0.1083,  0.1254,  0.1597,  ...,  0.2282,  0.2796,  0.3309],\n",
       "            [ 0.0912,  0.0912,  0.1426,  ...,  0.2282,  0.2624,  0.3138],\n",
       "            [ 0.0398,  0.0569,  0.1083,  ...,  0.2111,  0.2453,  0.2796],\n",
       "            ...,\n",
       "            [-0.3541, -0.3712, -0.3541,  ..., -0.4397, -0.4397, -0.4226],\n",
       "            [-0.3369, -0.3541, -0.3369,  ..., -0.4397, -0.4226, -0.3883],\n",
       "            [-0.3369, -0.3369, -0.3198,  ..., -0.4568, -0.4054, -0.3541]],\n",
       "  \n",
       "           [[ 0.2052,  0.2227,  0.2577,  ...,  0.3803,  0.4328,  0.5028],\n",
       "            [ 0.1877,  0.1877,  0.2402,  ...,  0.3627,  0.4153,  0.4678],\n",
       "            [ 0.1527,  0.1527,  0.2052,  ...,  0.3627,  0.3978,  0.4328],\n",
       "            ...,\n",
       "            [-0.2500, -0.2850, -0.2675,  ..., -0.3025, -0.3025, -0.2850],\n",
       "            [-0.2500, -0.2675, -0.2500,  ..., -0.3025, -0.2850, -0.2500],\n",
       "            [-0.2325, -0.2500, -0.2325,  ..., -0.3025, -0.2675, -0.2150]],\n",
       "  \n",
       "           [[ 0.1825,  0.2173,  0.2522,  ...,  0.3045,  0.3742,  0.4439],\n",
       "            [ 0.1651,  0.1999,  0.2348,  ...,  0.3045,  0.3568,  0.4091],\n",
       "            [ 0.1128,  0.1476,  0.1999,  ...,  0.3045,  0.3393,  0.3742],\n",
       "            ...,\n",
       "            [-0.3230, -0.3230, -0.3055,  ..., -0.1835, -0.1835, -0.1661],\n",
       "            [-0.3055, -0.3055, -0.2881,  ..., -0.1835, -0.1661, -0.1312],\n",
       "            [-0.3055, -0.2881, -0.2707,  ..., -0.2010, -0.1487, -0.0964]]],\n",
       "  \n",
       "  \n",
       "          [[[ 1.0844,  1.0844,  1.0673,  ...,  1.7694,  1.7694,  1.7694],\n",
       "            [ 1.0844,  1.0844,  1.0673,  ...,  1.7694,  1.7865,  1.7865],\n",
       "            [ 1.0673,  1.0673,  1.0673,  ...,  1.7694,  1.7865,  1.7865],\n",
       "            ...,\n",
       "            [-0.5938, -0.6109, -0.5424,  ..., -0.1143, -0.1486, -0.0972],\n",
       "            [-0.7308, -0.7137, -0.6623,  ..., -0.0629, -0.0801, -0.0287],\n",
       "            [-0.7650, -0.7137, -0.6623,  ...,  0.0056, -0.0116,  0.0056]],\n",
       "  \n",
       "           [[ 1.2381,  1.2381,  1.2206,  ...,  1.9384,  1.9384,  1.9384],\n",
       "            [ 1.2381,  1.2381,  1.2206,  ...,  1.9384,  1.9559,  1.9559],\n",
       "            [ 1.2206,  1.2206,  1.2206,  ...,  1.9384,  1.9559,  1.9559],\n",
       "            ...,\n",
       "            [-0.7227, -0.7402, -0.6877,  ..., -0.1099, -0.1450, -0.0924],\n",
       "            [-0.8627, -0.8627, -0.8277,  ..., -0.0574, -0.0749, -0.0224],\n",
       "            [-0.8803, -0.8627, -0.8102,  ...,  0.0301,  0.0126,  0.0301]],\n",
       "  \n",
       "           [[ 1.6640,  1.6640,  1.6465,  ...,  2.1520,  2.1520,  2.1520],\n",
       "            [ 1.6640,  1.6640,  1.6465,  ...,  2.1520,  2.1694,  2.1694],\n",
       "            [ 1.6465,  1.6465,  1.6465,  ...,  2.1520,  2.1694,  2.1694],\n",
       "            ...,\n",
       "            [-1.0027, -0.9853, -0.9330,  ..., -0.8284, -0.8633, -0.7936],\n",
       "            [-1.0724, -1.0376, -1.0027,  ..., -0.7761, -0.7936, -0.7238],\n",
       "            [-1.0376, -1.0027, -0.9504,  ..., -0.6715, -0.6890, -0.6367]]],\n",
       "  \n",
       "  \n",
       "          [[[ 1.7180,  1.7180,  1.7523,  ...,  1.3242,  1.3242,  1.3242],\n",
       "            [ 1.7352,  1.7352,  1.7523,  ...,  1.3584,  1.3584,  1.3242],\n",
       "            [ 1.7352,  1.7352,  1.7523,  ...,  1.3413,  1.3584,  1.3927],\n",
       "            ...,\n",
       "            [-1.9295, -1.8610, -1.9980,  ..., -0.9705, -0.1143,  0.2796],\n",
       "            [-2.0323, -1.9809, -1.9980,  ..., -1.0390,  0.0227,  0.3481],\n",
       "            [-2.0494, -2.0152, -1.9809,  ..., -1.0733,  0.1254,  0.3652]],\n",
       "  \n",
       "           [[ 2.1310,  2.1310,  2.2010,  ...,  1.7808,  1.7808,  1.7633],\n",
       "            [ 2.1660,  2.1835,  2.2185,  ...,  1.7983,  1.7983,  1.7633],\n",
       "            [ 2.2010,  2.2010,  2.2185,  ...,  1.7808,  1.7983,  1.8333],\n",
       "            ...,\n",
       "            [-1.9832, -1.8606, -1.9832,  ..., -0.7927,  0.1352,  0.5728],\n",
       "            [-2.0182, -1.9657, -1.9832,  ..., -0.8627,  0.2577,  0.6078],\n",
       "            [-2.0357, -1.9832, -1.9307,  ..., -0.8978,  0.3452,  0.5903]],\n",
       "  \n",
       "           [[ 2.5006,  2.5180,  2.5529,  ...,  2.2740,  2.2740,  2.2740],\n",
       "            [ 2.5180,  2.5529,  2.5703,  ...,  2.2740,  2.2740,  2.2566],\n",
       "            [ 2.5529,  2.5529,  2.5703,  ...,  2.2566,  2.2740,  2.2914],\n",
       "            ...,\n",
       "            [-1.6650, -1.5953, -1.7347,  ..., -0.5147,  0.3916,  0.8099],\n",
       "            [-1.7173, -1.6824, -1.7347,  ..., -0.5844,  0.4962,  0.8797],\n",
       "            [-1.7173, -1.6824, -1.6476,  ..., -0.6018,  0.6182,  0.8797]]],\n",
       "  \n",
       "  \n",
       "          ...,\n",
       "  \n",
       "  \n",
       "          [[[ 0.7933,  0.8276,  0.7933,  ..., -0.0629,  0.0398,  0.0398],\n",
       "            [ 0.7762,  0.7762,  0.7933,  ...,  0.1254,  0.1083, -0.1828],\n",
       "            [ 0.7933,  0.7933,  0.8618,  ...,  0.1254,  0.0741, -0.2684],\n",
       "            ...,\n",
       "            [ 0.4679,  0.4851,  0.4679,  ...,  0.4851,  0.5193,  0.5193],\n",
       "            [ 0.5364,  0.5364,  0.5364,  ...,  0.5536,  0.5536,  0.5022],\n",
       "            [ 0.5878,  0.5364,  0.5364,  ...,  0.5536,  0.5193,  0.4337]],\n",
       "  \n",
       "           [[ 0.9580,  0.9755,  0.9580,  ...,  0.0476,  0.1352,  0.1527],\n",
       "            [ 0.9055,  0.9230,  0.9055,  ...,  0.2402,  0.2227, -0.0749],\n",
       "            [ 0.8704,  0.8880,  0.9405,  ...,  0.2402,  0.1877, -0.1625],\n",
       "            ...,\n",
       "            [ 0.6779,  0.6779,  0.6604,  ...,  0.7129,  0.7479,  0.7479],\n",
       "            [ 0.7479,  0.7479,  0.7479,  ...,  0.7829,  0.7829,  0.7304],\n",
       "            [ 0.8004,  0.7654,  0.7479,  ...,  0.7829,  0.7479,  0.6604]],\n",
       "  \n",
       "           [[ 1.0539,  1.0714,  1.0365,  ...,  0.4091,  0.4614,  0.4614],\n",
       "            [ 1.0539,  1.0365,  1.0539,  ...,  0.6008,  0.5485,  0.2522],\n",
       "            [ 1.0714,  1.0539,  1.1237,  ...,  0.6008,  0.5136,  0.1476],\n",
       "            ...,\n",
       "            [ 0.9494,  0.9668,  0.9494,  ...,  1.0365,  1.0714,  1.0714],\n",
       "            [ 1.0017,  1.0017,  0.9842,  ...,  1.1062,  1.1062,  1.0539],\n",
       "            [ 1.0365,  0.9842,  0.9842,  ...,  1.1062,  1.0714,  0.9842]]],\n",
       "  \n",
       "  \n",
       "          [[[-1.8097, -1.8439, -1.8268,  ...,  1.6324,  1.6495,  1.6667],\n",
       "            [-1.6898, -1.8097, -1.8610,  ...,  1.6324,  1.6324,  1.6667],\n",
       "            [-1.6555, -1.7754, -1.8439,  ...,  1.6495,  1.6495,  1.6667],\n",
       "            ...,\n",
       "            [-0.5424, -0.5938, -0.8164,  ..., -0.6109, -0.7137, -0.7993],\n",
       "            [-0.4911, -0.5082, -0.6281,  ..., -0.5424, -0.5424, -0.8335],\n",
       "            [-0.3369, -0.3883, -0.4568,  ..., -0.4397, -0.1999, -0.6452]],\n",
       "  \n",
       "           [[-1.5805, -1.5630, -1.5630,  ...,  2.1835,  2.1835,  2.1835],\n",
       "            [-1.4405, -1.5280, -1.5805,  ...,  2.1835,  2.1835,  2.1660],\n",
       "            [-1.4055, -1.5105, -1.5805,  ...,  2.1660,  2.1660,  2.1660],\n",
       "            ...,\n",
       "            [-0.0574, -0.1099, -0.3200,  ..., -0.1099, -0.1975, -0.2675],\n",
       "            [-0.0574, -0.0924, -0.1800,  ..., -0.0574, -0.0574, -0.3375],\n",
       "            [ 0.0651,  0.0301, -0.0399,  ...,  0.0301,  0.2927, -0.1450]],\n",
       "  \n",
       "           [[-1.6476, -1.5953, -1.5604,  ...,  2.6226,  2.6226,  2.6400],\n",
       "            [-1.5081, -1.5604, -1.5779,  ...,  2.6226,  2.6226,  2.6226],\n",
       "            [-1.4559, -1.5081, -1.5430,  ...,  2.6226,  2.6226,  2.6051],\n",
       "            ...,\n",
       "            [-1.1247, -1.1770, -1.3687,  ..., -1.2990, -1.4384, -1.5256],\n",
       "            [-1.1247, -1.1596, -1.2293,  ..., -1.1073, -1.1770, -1.5256],\n",
       "            [-0.9853, -1.0550, -1.0898,  ..., -0.9678, -0.7761, -1.3164]]],\n",
       "  \n",
       "  \n",
       "          [[[-1.6042, -1.5870, -1.5870,  ..., -1.3473, -1.3473, -1.3644],\n",
       "            [-1.5870, -1.5870, -1.6042,  ..., -1.3473, -1.3473, -1.3644],\n",
       "            [-1.5870, -1.6042, -1.6042,  ..., -1.3473, -1.3473, -1.3644],\n",
       "            ...,\n",
       "            [ 0.1768,  0.0398, -0.0801,  ...,  2.2147,  2.1975,  2.1804],\n",
       "            [ 0.0569, -0.0801, -0.1314,  ...,  2.2147,  2.1975,  2.1633],\n",
       "            [ 0.1083, -0.0629, -0.1314,  ...,  2.1975,  2.1975,  2.1804]],\n",
       "  \n",
       "           [[-1.5980, -1.5805, -1.5980,  ..., -1.3179, -1.3179, -1.3354],\n",
       "            [-1.5805, -1.5805, -1.5980,  ..., -1.3179, -1.3179, -1.3354],\n",
       "            [-1.5805, -1.5980, -1.5980,  ..., -1.3179, -1.3179, -1.3354],\n",
       "            ...,\n",
       "            [ 0.2577,  0.0826, -0.0574,  ...,  2.3936,  2.3936,  2.3761],\n",
       "            [ 0.1176, -0.0574, -0.1275,  ...,  2.3936,  2.3936,  2.3585],\n",
       "            [ 0.1001, -0.0749, -0.1450,  ...,  2.3761,  2.3761,  2.3585]],\n",
       "  \n",
       "           [[-1.4384, -1.4210, -1.4384,  ..., -1.1421, -1.1421, -1.1596],\n",
       "            [-1.4210, -1.4210, -1.4384,  ..., -1.1421, -1.1421, -1.1596],\n",
       "            [-1.4210, -1.4384, -1.4384,  ..., -1.1421, -1.1421, -1.1596],\n",
       "            ...,\n",
       "            [ 0.4091,  0.2173,  0.0431,  ...,  2.6226,  2.6400,  2.6226],\n",
       "            [ 0.2696,  0.0779, -0.0441,  ...,  2.6226,  2.6400,  2.6051],\n",
       "            [ 0.2348,  0.0082, -0.0964,  ...,  2.5877,  2.5877,  2.5877]]]]),\n",
       "  'idx': tensor([ 0,  1,  2,  3,  4,  5,  6,  7,  8,  9, 10, 11, 12, 13, 14, 15, 16, 17,\n",
       "          18, 19, 20, 21, 22, 23])},\n",
       " {'target': tensor([0, 0, 0, 0, 0, 0, 0, 0, 0, 0, 0, 0, 0, 0, 0, 0, 0, 0, 0, 0, 0, 0, 0, 0])}]"
      ]
     },
     "execution_count": 22,
     "metadata": {},
     "output_type": "execute_result"
    }
   ],
   "source": [
    "b"
   ]
  },
  {
   "cell_type": "code",
   "execution_count": null,
   "metadata": {},
   "outputs": [],
   "source": [
    "for i, b in tqdm(enumerate()"
   ]
  },
  {
   "cell_type": "code",
   "execution_count": 10,
   "metadata": {},
   "outputs": [
    {
     "data": {
      "application/vnd.jupyter.widget-view+json": {
       "model_id": "c2ca9e58a8a946508a11682d7c3394a1",
       "version_major": 2,
       "version_minor": 0
      },
      "text/plain": [
       "  0%|          | 0/8073 [00:00<?, ?it/s]"
      ]
     },
     "metadata": {},
     "output_type": "display_data"
    },
    {
     "name": "stdout",
     "output_type": "stream",
     "text": [
      "FAIL READING IMGFAIL READING IMGFAIL READING IMGFAIL READING IMGFAIL READING IMGFAIL READING IMG  FAIL READING IMGFAIL READING IMG /home/ubuntu/kaggle/input/GLDv2/train/1/c/8/1c8b5d5d127f593e.jpgFAIL READING IMG  FAIL READING IMGFAIL READING IMGFAIL READING IMG\n",
      "FAIL READING IMGFAIL READING IMG/home/ubuntu/kaggle/input/GLDv2/train/1/3/8/138b0b633891c1b2.jpgFAIL READING IMGFAIL READING IMG FAIL READING IMGFAIL READING IMG    FAIL READING IMG/home/ubuntu/kaggle/input/GLDv2/train/0/8/f/08f451a334e99c56.jpg/home/ubuntu/kaggle/input/GLDv2/train/8/2/9/8293687da475385f.jpg     \n",
      " FAIL READING IMGFAIL READING IMG/home/ubuntu/kaggle/input/GLDv2/train/d/a/e/dae345259dc0d951.jpg /home/ubuntu/kaggle/input/GLDv2/train/9/e/6/9e6e0aa3336cb197.jpgFAIL READING IMGFAIL READING IMG /home/ubuntu/kaggle/input/GLDv2/train/a/5/c/a5c8e24cf12eb40b.jpg/home/ubuntu/kaggle/input/GLDv2/train/8/a/7/8a753264aa170672.jpg/home/ubuntu/kaggle/input/GLDv2/train/6/9/2/69224bed07493d62.jpg /home/ubuntu/kaggle/input/GLDv2/train/d/8/1/d815659fccbf4f0e.jpg\n",
      "\n",
      "/home/ubuntu/kaggle/input/GLDv2/train/3/5/7/3574ccc8088f4c20.jpg/home/ubuntu/kaggle/input/GLDv2/train/0/7/e/07e07439dd400a12.jpg/home/ubuntu/kaggle/input/GLDv2/train/9/6/5/9656513f3b107ab9.jpg/home/ubuntu/kaggle/input/GLDv2/train/1/a/c/1ac124a2bf3e46a3.jpg/home/ubuntu/kaggle/input/GLDv2/train/4/f/7/4f7d94b75701f43d.jpg/home/ubuntu/kaggle/input/GLDv2/train/d/4/e/d4e2d14d80a0ff82.jpg  \n",
      "/home/ubuntu/kaggle/input/GLDv2/train/9/d/5/9d5a978f34725387.jpg  \n",
      "/home/ubuntu/kaggle/input/GLDv2/train/7/6/1/761f7ec8a7f81fc4.jpg\n",
      "\n",
      "\n",
      "/home/ubuntu/kaggle/input/GLDv2/train/f/5/e/f5e8d75c3675cb6b.jpg\n",
      "\n",
      "\n",
      "\n",
      "\n",
      "\n",
      "\n",
      "/home/ubuntu/kaggle/input/GLDv2/train/2/7/1/271ababd4dd0b7bd.jpg\n",
      "/home/ubuntu/kaggle/input/GLDv2/train/a/e/8/ae80cf97df9cc553.jpg\n",
      "\n",
      "/home/ubuntu/kaggle/input/GLDv2/train/2/7/7/27795b319366c781.jpg/home/ubuntu/kaggle/input/GLDv2/train/c/4/f/c4feece533e2c795.jpg\n",
      "\n",
      "\n"
     ]
    },
    {
     "ename": "KeyboardInterrupt",
     "evalue": "",
     "output_type": "error",
     "traceback": [
      "\u001b[0;31m---------------------------------------------------------------------------\u001b[0m",
      "\u001b[0;31mKeyboardInterrupt\u001b[0m                         Traceback (most recent call last)",
      "\u001b[0;32m/tmp/ipykernel_110782/4083701868.py\u001b[0m in \u001b[0;36m<module>\u001b[0;34m\u001b[0m\n\u001b[0;32m----> 1\u001b[0;31m \u001b[0;32mfor\u001b[0m \u001b[0midx\u001b[0m\u001b[0;34m,\u001b[0m \u001b[0mbatch\u001b[0m \u001b[0;32min\u001b[0m \u001b[0mtqdm\u001b[0m\u001b[0;34m(\u001b[0m\u001b[0menumerate\u001b[0m\u001b[0;34m(\u001b[0m\u001b[0mval_dl\u001b[0m\u001b[0;34m)\u001b[0m\u001b[0;34m,\u001b[0m \u001b[0mtotal\u001b[0m\u001b[0;34m=\u001b[0m\u001b[0mlen\u001b[0m\u001b[0;34m(\u001b[0m\u001b[0mval_dl\u001b[0m\u001b[0;34m)\u001b[0m\u001b[0;34m)\u001b[0m\u001b[0;34m:\u001b[0m\u001b[0;34m\u001b[0m\u001b[0;34m\u001b[0m\u001b[0m\n\u001b[0m\u001b[1;32m      2\u001b[0m     \u001b[0minput_dict\u001b[0m\u001b[0;34m,\u001b[0m \u001b[0mtarget_dict\u001b[0m \u001b[0;34m=\u001b[0m \u001b[0mdict_unravel\u001b[0m\u001b[0;34m(\u001b[0m\u001b[0mbatch\u001b[0m\u001b[0;34m)\u001b[0m\u001b[0;34m\u001b[0m\u001b[0;34m\u001b[0m\u001b[0m\n\u001b[1;32m      3\u001b[0m     \u001b[0;32mbreak\u001b[0m\u001b[0;34m\u001b[0m\u001b[0;34m\u001b[0m\u001b[0m\n",
      "\u001b[0;32m~/anaconda3/envs/pytorch_p37/lib/python3.7/site-packages/tqdm/notebook.py\u001b[0m in \u001b[0;36m__iter__\u001b[0;34m(self)\u001b[0m\n\u001b[1;32m    252\u001b[0m     \u001b[0;32mdef\u001b[0m \u001b[0m__iter__\u001b[0m\u001b[0;34m(\u001b[0m\u001b[0mself\u001b[0m\u001b[0;34m)\u001b[0m\u001b[0;34m:\u001b[0m\u001b[0;34m\u001b[0m\u001b[0;34m\u001b[0m\u001b[0m\n\u001b[1;32m    253\u001b[0m         \u001b[0;32mtry\u001b[0m\u001b[0;34m:\u001b[0m\u001b[0;34m\u001b[0m\u001b[0;34m\u001b[0m\u001b[0m\n\u001b[0;32m--> 254\u001b[0;31m             \u001b[0;32mfor\u001b[0m \u001b[0mobj\u001b[0m \u001b[0;32min\u001b[0m \u001b[0msuper\u001b[0m\u001b[0;34m(\u001b[0m\u001b[0mtqdm_notebook\u001b[0m\u001b[0;34m,\u001b[0m \u001b[0mself\u001b[0m\u001b[0;34m)\u001b[0m\u001b[0;34m.\u001b[0m\u001b[0m__iter__\u001b[0m\u001b[0;34m(\u001b[0m\u001b[0;34m)\u001b[0m\u001b[0;34m:\u001b[0m\u001b[0;34m\u001b[0m\u001b[0;34m\u001b[0m\u001b[0m\n\u001b[0m\u001b[1;32m    255\u001b[0m                 \u001b[0;31m# return super(tqdm...) will not catch exception\u001b[0m\u001b[0;34m\u001b[0m\u001b[0;34m\u001b[0m\u001b[0;34m\u001b[0m\u001b[0m\n\u001b[1;32m    256\u001b[0m                 \u001b[0;32myield\u001b[0m \u001b[0mobj\u001b[0m\u001b[0;34m\u001b[0m\u001b[0;34m\u001b[0m\u001b[0m\n",
      "\u001b[0;32m~/anaconda3/envs/pytorch_p37/lib/python3.7/site-packages/tqdm/std.py\u001b[0m in \u001b[0;36m__iter__\u001b[0;34m(self)\u001b[0m\n\u001b[1;32m   1183\u001b[0m \u001b[0;34m\u001b[0m\u001b[0m\n\u001b[1;32m   1184\u001b[0m         \u001b[0;32mtry\u001b[0m\u001b[0;34m:\u001b[0m\u001b[0;34m\u001b[0m\u001b[0;34m\u001b[0m\u001b[0m\n\u001b[0;32m-> 1185\u001b[0;31m             \u001b[0;32mfor\u001b[0m \u001b[0mobj\u001b[0m \u001b[0;32min\u001b[0m \u001b[0miterable\u001b[0m\u001b[0;34m:\u001b[0m\u001b[0;34m\u001b[0m\u001b[0;34m\u001b[0m\u001b[0m\n\u001b[0m\u001b[1;32m   1186\u001b[0m                 \u001b[0;32myield\u001b[0m \u001b[0mobj\u001b[0m\u001b[0;34m\u001b[0m\u001b[0;34m\u001b[0m\u001b[0m\n\u001b[1;32m   1187\u001b[0m                 \u001b[0;31m# Update and possibly print the progressbar.\u001b[0m\u001b[0;34m\u001b[0m\u001b[0;34m\u001b[0m\u001b[0;34m\u001b[0m\u001b[0m\n",
      "\u001b[0;32m~/anaconda3/envs/pytorch_p37/lib/python3.7/site-packages/torch/utils/data/dataloader.py\u001b[0m in \u001b[0;36m__next__\u001b[0;34m(self)\u001b[0m\n\u001b[1;32m    361\u001b[0m \u001b[0;34m\u001b[0m\u001b[0m\n\u001b[1;32m    362\u001b[0m     \u001b[0;32mdef\u001b[0m \u001b[0m__next__\u001b[0m\u001b[0;34m(\u001b[0m\u001b[0mself\u001b[0m\u001b[0;34m)\u001b[0m\u001b[0;34m:\u001b[0m\u001b[0;34m\u001b[0m\u001b[0;34m\u001b[0m\u001b[0m\n\u001b[0;32m--> 363\u001b[0;31m         \u001b[0mdata\u001b[0m \u001b[0;34m=\u001b[0m \u001b[0mself\u001b[0m\u001b[0;34m.\u001b[0m\u001b[0m_next_data\u001b[0m\u001b[0;34m(\u001b[0m\u001b[0;34m)\u001b[0m\u001b[0;34m\u001b[0m\u001b[0;34m\u001b[0m\u001b[0m\n\u001b[0m\u001b[1;32m    364\u001b[0m         \u001b[0mself\u001b[0m\u001b[0;34m.\u001b[0m\u001b[0m_num_yielded\u001b[0m \u001b[0;34m+=\u001b[0m \u001b[0;36m1\u001b[0m\u001b[0;34m\u001b[0m\u001b[0;34m\u001b[0m\u001b[0m\n\u001b[1;32m    365\u001b[0m         \u001b[0;32mif\u001b[0m \u001b[0mself\u001b[0m\u001b[0;34m.\u001b[0m\u001b[0m_dataset_kind\u001b[0m \u001b[0;34m==\u001b[0m \u001b[0m_DatasetKind\u001b[0m\u001b[0;34m.\u001b[0m\u001b[0mIterable\u001b[0m \u001b[0;32mand\u001b[0m\u001b[0;31m \u001b[0m\u001b[0;31m\\\u001b[0m\u001b[0;34m\u001b[0m\u001b[0;34m\u001b[0m\u001b[0m\n",
      "\u001b[0;32m~/anaconda3/envs/pytorch_p37/lib/python3.7/site-packages/torch/utils/data/dataloader.py\u001b[0m in \u001b[0;36m_next_data\u001b[0;34m(self)\u001b[0m\n\u001b[1;32m    972\u001b[0m \u001b[0;34m\u001b[0m\u001b[0m\n\u001b[1;32m    973\u001b[0m             \u001b[0;32massert\u001b[0m \u001b[0;32mnot\u001b[0m \u001b[0mself\u001b[0m\u001b[0;34m.\u001b[0m\u001b[0m_shutdown\u001b[0m \u001b[0;32mand\u001b[0m \u001b[0mself\u001b[0m\u001b[0;34m.\u001b[0m\u001b[0m_tasks_outstanding\u001b[0m \u001b[0;34m>\u001b[0m \u001b[0;36m0\u001b[0m\u001b[0;34m\u001b[0m\u001b[0;34m\u001b[0m\u001b[0m\n\u001b[0;32m--> 974\u001b[0;31m             \u001b[0midx\u001b[0m\u001b[0;34m,\u001b[0m \u001b[0mdata\u001b[0m \u001b[0;34m=\u001b[0m \u001b[0mself\u001b[0m\u001b[0;34m.\u001b[0m\u001b[0m_get_data\u001b[0m\u001b[0;34m(\u001b[0m\u001b[0;34m)\u001b[0m\u001b[0;34m\u001b[0m\u001b[0;34m\u001b[0m\u001b[0m\n\u001b[0m\u001b[1;32m    975\u001b[0m             \u001b[0mself\u001b[0m\u001b[0;34m.\u001b[0m\u001b[0m_tasks_outstanding\u001b[0m \u001b[0;34m-=\u001b[0m \u001b[0;36m1\u001b[0m\u001b[0;34m\u001b[0m\u001b[0;34m\u001b[0m\u001b[0m\n\u001b[1;32m    976\u001b[0m \u001b[0;34m\u001b[0m\u001b[0m\n",
      "\u001b[0;32m~/anaconda3/envs/pytorch_p37/lib/python3.7/site-packages/torch/utils/data/dataloader.py\u001b[0m in \u001b[0;36m_get_data\u001b[0;34m(self)\u001b[0m\n\u001b[1;32m    929\u001b[0m         \u001b[0;32melif\u001b[0m \u001b[0mself\u001b[0m\u001b[0;34m.\u001b[0m\u001b[0m_pin_memory\u001b[0m\u001b[0;34m:\u001b[0m\u001b[0;34m\u001b[0m\u001b[0;34m\u001b[0m\u001b[0m\n\u001b[1;32m    930\u001b[0m             \u001b[0;32mwhile\u001b[0m \u001b[0mself\u001b[0m\u001b[0;34m.\u001b[0m\u001b[0m_pin_memory_thread\u001b[0m\u001b[0;34m.\u001b[0m\u001b[0mis_alive\u001b[0m\u001b[0;34m(\u001b[0m\u001b[0;34m)\u001b[0m\u001b[0;34m:\u001b[0m\u001b[0;34m\u001b[0m\u001b[0;34m\u001b[0m\u001b[0m\n\u001b[0;32m--> 931\u001b[0;31m                 \u001b[0msuccess\u001b[0m\u001b[0;34m,\u001b[0m \u001b[0mdata\u001b[0m \u001b[0;34m=\u001b[0m \u001b[0mself\u001b[0m\u001b[0;34m.\u001b[0m\u001b[0m_try_get_data\u001b[0m\u001b[0;34m(\u001b[0m\u001b[0;34m)\u001b[0m\u001b[0;34m\u001b[0m\u001b[0;34m\u001b[0m\u001b[0m\n\u001b[0m\u001b[1;32m    932\u001b[0m                 \u001b[0;32mif\u001b[0m \u001b[0msuccess\u001b[0m\u001b[0;34m:\u001b[0m\u001b[0;34m\u001b[0m\u001b[0;34m\u001b[0m\u001b[0m\n\u001b[1;32m    933\u001b[0m                     \u001b[0;32mreturn\u001b[0m \u001b[0mdata\u001b[0m\u001b[0;34m\u001b[0m\u001b[0;34m\u001b[0m\u001b[0m\n",
      "\u001b[0;32m~/anaconda3/envs/pytorch_p37/lib/python3.7/site-packages/torch/utils/data/dataloader.py\u001b[0m in \u001b[0;36m_try_get_data\u001b[0;34m(self, timeout)\u001b[0m\n\u001b[1;32m    777\u001b[0m         \u001b[0;31m#   (bool: whether successfully get data, any: data if successful else None)\u001b[0m\u001b[0;34m\u001b[0m\u001b[0;34m\u001b[0m\u001b[0;34m\u001b[0m\u001b[0m\n\u001b[1;32m    778\u001b[0m         \u001b[0;32mtry\u001b[0m\u001b[0;34m:\u001b[0m\u001b[0;34m\u001b[0m\u001b[0;34m\u001b[0m\u001b[0m\n\u001b[0;32m--> 779\u001b[0;31m             \u001b[0mdata\u001b[0m \u001b[0;34m=\u001b[0m \u001b[0mself\u001b[0m\u001b[0;34m.\u001b[0m\u001b[0m_data_queue\u001b[0m\u001b[0;34m.\u001b[0m\u001b[0mget\u001b[0m\u001b[0;34m(\u001b[0m\u001b[0mtimeout\u001b[0m\u001b[0;34m=\u001b[0m\u001b[0mtimeout\u001b[0m\u001b[0;34m)\u001b[0m\u001b[0;34m\u001b[0m\u001b[0;34m\u001b[0m\u001b[0m\n\u001b[0m\u001b[1;32m    780\u001b[0m             \u001b[0;32mreturn\u001b[0m \u001b[0;34m(\u001b[0m\u001b[0;32mTrue\u001b[0m\u001b[0;34m,\u001b[0m \u001b[0mdata\u001b[0m\u001b[0;34m)\u001b[0m\u001b[0;34m\u001b[0m\u001b[0;34m\u001b[0m\u001b[0m\n\u001b[1;32m    781\u001b[0m         \u001b[0;32mexcept\u001b[0m \u001b[0mException\u001b[0m \u001b[0;32mas\u001b[0m \u001b[0me\u001b[0m\u001b[0;34m:\u001b[0m\u001b[0;34m\u001b[0m\u001b[0;34m\u001b[0m\u001b[0m\n",
      "\u001b[0;32m~/anaconda3/envs/pytorch_p37/lib/python3.7/queue.py\u001b[0m in \u001b[0;36mget\u001b[0;34m(self, block, timeout)\u001b[0m\n\u001b[1;32m    177\u001b[0m                     \u001b[0;32mif\u001b[0m \u001b[0mremaining\u001b[0m \u001b[0;34m<=\u001b[0m \u001b[0;36m0.0\u001b[0m\u001b[0;34m:\u001b[0m\u001b[0;34m\u001b[0m\u001b[0;34m\u001b[0m\u001b[0m\n\u001b[1;32m    178\u001b[0m                         \u001b[0;32mraise\u001b[0m \u001b[0mEmpty\u001b[0m\u001b[0;34m\u001b[0m\u001b[0;34m\u001b[0m\u001b[0m\n\u001b[0;32m--> 179\u001b[0;31m                     \u001b[0mself\u001b[0m\u001b[0;34m.\u001b[0m\u001b[0mnot_empty\u001b[0m\u001b[0;34m.\u001b[0m\u001b[0mwait\u001b[0m\u001b[0;34m(\u001b[0m\u001b[0mremaining\u001b[0m\u001b[0;34m)\u001b[0m\u001b[0;34m\u001b[0m\u001b[0;34m\u001b[0m\u001b[0m\n\u001b[0m\u001b[1;32m    180\u001b[0m             \u001b[0mitem\u001b[0m \u001b[0;34m=\u001b[0m \u001b[0mself\u001b[0m\u001b[0;34m.\u001b[0m\u001b[0m_get\u001b[0m\u001b[0;34m(\u001b[0m\u001b[0;34m)\u001b[0m\u001b[0;34m\u001b[0m\u001b[0;34m\u001b[0m\u001b[0m\n\u001b[1;32m    181\u001b[0m             \u001b[0mself\u001b[0m\u001b[0;34m.\u001b[0m\u001b[0mnot_full\u001b[0m\u001b[0;34m.\u001b[0m\u001b[0mnotify\u001b[0m\u001b[0;34m(\u001b[0m\u001b[0;34m)\u001b[0m\u001b[0;34m\u001b[0m\u001b[0;34m\u001b[0m\u001b[0m\n",
      "\u001b[0;32m~/anaconda3/envs/pytorch_p37/lib/python3.7/threading.py\u001b[0m in \u001b[0;36mwait\u001b[0;34m(self, timeout)\u001b[0m\n\u001b[1;32m    298\u001b[0m             \u001b[0;32melse\u001b[0m\u001b[0;34m:\u001b[0m\u001b[0;34m\u001b[0m\u001b[0;34m\u001b[0m\u001b[0m\n\u001b[1;32m    299\u001b[0m                 \u001b[0;32mif\u001b[0m \u001b[0mtimeout\u001b[0m \u001b[0;34m>\u001b[0m \u001b[0;36m0\u001b[0m\u001b[0;34m:\u001b[0m\u001b[0;34m\u001b[0m\u001b[0;34m\u001b[0m\u001b[0m\n\u001b[0;32m--> 300\u001b[0;31m                     \u001b[0mgotit\u001b[0m \u001b[0;34m=\u001b[0m \u001b[0mwaiter\u001b[0m\u001b[0;34m.\u001b[0m\u001b[0macquire\u001b[0m\u001b[0;34m(\u001b[0m\u001b[0;32mTrue\u001b[0m\u001b[0;34m,\u001b[0m \u001b[0mtimeout\u001b[0m\u001b[0;34m)\u001b[0m\u001b[0;34m\u001b[0m\u001b[0;34m\u001b[0m\u001b[0m\n\u001b[0m\u001b[1;32m    301\u001b[0m                 \u001b[0;32melse\u001b[0m\u001b[0;34m:\u001b[0m\u001b[0;34m\u001b[0m\u001b[0;34m\u001b[0m\u001b[0m\n\u001b[1;32m    302\u001b[0m                     \u001b[0mgotit\u001b[0m \u001b[0;34m=\u001b[0m \u001b[0mwaiter\u001b[0m\u001b[0;34m.\u001b[0m\u001b[0macquire\u001b[0m\u001b[0;34m(\u001b[0m\u001b[0;32mFalse\u001b[0m\u001b[0;34m)\u001b[0m\u001b[0;34m\u001b[0m\u001b[0;34m\u001b[0m\u001b[0m\n",
      "\u001b[0;31mKeyboardInterrupt\u001b[0m: "
     ]
    },
    {
     "name": "stdout",
     "output_type": "stream",
     "text": [
      "\n"
     ]
    },
    {
     "name": "stderr",
     "output_type": "stream",
     "text": [
      "Exception in thread Thread-7:\n",
      "Traceback (most recent call last):\n",
      "  File \"/home/ubuntu/anaconda3/envs/pytorch_p37/lib/python3.7/threading.py\", line 926, in _bootstrap_inner\n",
      "    self.run()\n",
      "  File \"/home/ubuntu/anaconda3/envs/pytorch_p37/lib/python3.7/threading.py\", line 870, in run\n",
      "    self._target(*self._args, **self._kwargs)\n",
      "  File \"/home/ubuntu/anaconda3/envs/pytorch_p37/lib/python3.7/site-packages/torch/utils/data/_utils/pin_memory.py\", line 25, in _pin_memory_loop\n",
      "    r = in_queue.get(timeout=MP_STATUS_CHECK_INTERVAL)\n",
      "  File \"/home/ubuntu/anaconda3/envs/pytorch_p37/lib/python3.7/multiprocessing/queues.py\", line 113, in get\n",
      "    return _ForkingPickler.loads(res)\n",
      "  File \"/home/ubuntu/anaconda3/envs/pytorch_p37/lib/python3.7/site-packages/torch/multiprocessing/reductions.py\", line 282, in rebuild_storage_fd\n",
      "    fd = df.detach()\n",
      "  File \"/home/ubuntu/anaconda3/envs/pytorch_p37/lib/python3.7/multiprocessing/resource_sharer.py\", line 57, in detach\n",
      "    with _resource_sharer.get_connection(self._id) as conn:\n",
      "  File \"/home/ubuntu/anaconda3/envs/pytorch_p37/lib/python3.7/multiprocessing/resource_sharer.py\", line 87, in get_connection\n",
      "    c = Client(address, authkey=process.current_process().authkey)\n",
      "  File \"/home/ubuntu/anaconda3/envs/pytorch_p37/lib/python3.7/multiprocessing/connection.py\", line 492, in Client\n",
      "    c = SocketClient(address)\n",
      "  File \"/home/ubuntu/anaconda3/envs/pytorch_p37/lib/python3.7/multiprocessing/connection.py\", line 620, in SocketClient\n",
      "    s.connect(address)\n",
      "FileNotFoundError: [Errno 2] No such file or directory\n",
      "\n"
     ]
    }
   ],
   "source": [
    "for idx, batch in tqdm(enumerate(val_dl), total=len(val_dl)):\n",
    "    input_dict, target_dict = dict_unravel(batch)\n",
    "    break"
   ]
  },
  {
   "cell_type": "code",
   "execution_count": null,
   "metadata": {},
   "outputs": [],
   "source": [
    "embeddings.shape"
   ]
  },
  {
   "cell_type": "code",
   "execution_count": 30,
   "metadata": {},
   "outputs": [],
   "source": [
    "np.save(f\"../embeddings/{name}_{csv}_embeddings\", embeddings)"
   ]
  },
  {
   "cell_type": "code",
   "execution_count": null,
   "metadata": {},
   "outputs": [],
   "source": [
    "embeddings.shape\n",
    "np.save(f\"../embeddings/{name}_{csv}_embeddings\", embeddings)"
   ]
  }
 ],
 "metadata": {
  "kernelspec": {
   "display_name": "Python 3 (ipykernel)",
   "language": "python",
   "name": "python3"
  },
  "language_info": {
   "codemirror_mode": {
    "name": "ipython",
    "version": 3
   },
   "file_extension": ".py",
   "mimetype": "text/x-python",
   "name": "python",
   "nbconvert_exporter": "python",
   "pygments_lexer": "ipython3",
   "version": "3.7.10"
  }
 },
 "nbformat": 4,
 "nbformat_minor": 4
}
