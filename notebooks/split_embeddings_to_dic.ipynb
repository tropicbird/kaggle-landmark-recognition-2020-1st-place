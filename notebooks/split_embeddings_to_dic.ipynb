{
 "cells": [
  {
   "cell_type": "markdown",
   "id": "67ba16c5",
   "metadata": {},
   "source": [
    "# 1. Filter the GLDv2full embeddings by the landmark_ids of GLDv2clean"
   ]
  },
  {
   "cell_type": "code",
   "execution_count": 3,
   "id": "a26ed617",
   "metadata": {},
   "outputs": [],
   "source": [
    "import numpy as np\n",
    "import pandas as pd"
   ]
  },
  {
   "cell_type": "code",
   "execution_count": 4,
   "id": "f4d97c67",
   "metadata": {},
   "outputs": [],
   "source": [
    "train_kaggle=pd.read_csv('./input/train_kaggle.csv')"
   ]
  },
  {
   "cell_type": "code",
   "execution_count": 5,
   "id": "1552b477",
   "metadata": {},
   "outputs": [],
   "source": [
    "train=pd.read_csv('./input/train.csv')"
   ]
  },
  {
   "cell_type": "code",
   "execution_count": 7,
   "id": "713bef48",
   "metadata": {},
   "outputs": [],
   "source": [
    "embeddings= np.load(\"./input/config1_train_embeddings.npy\")"
   ]
  },
  {
   "cell_type": "code",
   "execution_count": 8,
   "id": "62087201",
   "metadata": {},
   "outputs": [
    {
     "data": {
      "text/plain": [
       "(4132914, 512)"
      ]
     },
     "execution_count": 8,
     "metadata": {},
     "output_type": "execute_result"
    }
   ],
   "source": [
    "embeddings.shape"
   ]
  },
  {
   "cell_type": "code",
   "execution_count": 7,
   "id": "45977d71",
   "metadata": {},
   "outputs": [],
   "source": [
    "from tqdm.notebook import tqdm"
   ]
  },
  {
   "cell_type": "code",
   "execution_count": 13,
   "id": "4234af93",
   "metadata": {},
   "outputs": [],
   "source": [
    "landmark_ids=train_kaggle.landmark_id.unique()"
   ]
  },
  {
   "cell_type": "code",
   "execution_count": 17,
   "id": "86d93b44",
   "metadata": {},
   "outputs": [
    {
     "data": {
      "text/plain": [
       "True     3223078\n",
       "False     909836\n",
       "Name: landmark_id, dtype: int64"
      ]
     },
     "execution_count": 17,
     "metadata": {},
     "output_type": "execute_result"
    }
   ],
   "source": [
    "train['landmark_id'].isin(landmark_ids).value_counts()"
   ]
  },
  {
   "cell_type": "code",
   "execution_count": 24,
   "id": "78163a39",
   "metadata": {},
   "outputs": [],
   "source": [
    "train_filtered=train[train['landmark_id'].isin(landmark_ids)]"
   ]
  },
  {
   "cell_type": "code",
   "execution_count": 23,
   "id": "0a85cf24",
   "metadata": {},
   "outputs": [],
   "source": [
    "embeddings_filtered=embeddings[train['landmark_id'].isin(landmark_ids)]"
   ]
  },
  {
   "cell_type": "code",
   "execution_count": 30,
   "id": "f00f0ea6",
   "metadata": {},
   "outputs": [],
   "source": [
    "train_full_filtered=train_filtered.reset_index(drop=True)"
   ]
  },
  {
   "cell_type": "code",
   "execution_count": 33,
   "id": "9127d92a",
   "metadata": {},
   "outputs": [],
   "source": [
    "train_full_filtered.to_csv('./input/train_full_filtered.csv')"
   ]
  },
  {
   "cell_type": "code",
   "execution_count": 34,
   "id": "13047657",
   "metadata": {},
   "outputs": [],
   "source": [
    "np.save(f\"./input/config1_train_embeddings_filtered\", embeddings_filtered)"
   ]
  },
  {
   "cell_type": "markdown",
   "id": "6a3986ea",
   "metadata": {},
   "source": [
    "## 1.1 Split the filtered embeddings (3,223,078) into 100 dictionaries for memory saving in the inference process"
   ]
  },
  {
   "cell_type": "code",
   "execution_count": 9,
   "id": "041fb9df",
   "metadata": {},
   "outputs": [],
   "source": [
    "train_full_filtered=pd.read_csv('./input/train_full_filtered.csv')"
   ]
  },
  {
   "cell_type": "code",
   "execution_count": 10,
   "id": "e851c782",
   "metadata": {},
   "outputs": [],
   "source": [
    "targets=train_full_filtered.landmark_id.values"
   ]
  },
  {
   "cell_type": "code",
   "execution_count": 11,
   "id": "dc2f1542",
   "metadata": {},
   "outputs": [],
   "source": [
    "idx=np.array(train_full_filtered.index.tolist())"
   ]
  },
  {
   "cell_type": "code",
   "execution_count": 12,
   "id": "0d365f5e",
   "metadata": {},
   "outputs": [],
   "source": [
    "config1_train_embeddings_filtered= np.load(\"./input/config1_train_embeddings_filtered.npy\")"
   ]
  },
  {
   "cell_type": "code",
   "execution_count": 13,
   "id": "84395a65",
   "metadata": {},
   "outputs": [
    {
     "data": {
      "text/plain": [
       "array([[-0.385878  , -0.45518425, -0.12521571, ..., -0.17065661,\n",
       "         0.885234  , -0.58148366],\n",
       "       [-0.54030168, -0.03456247, -0.0021289 , ...,  0.23576169,\n",
       "        -0.10906727, -0.03044808],\n",
       "       [ 0.02245048,  0.38831481, -0.41250756, ..., -0.36589488,\n",
       "        -0.19105846, -0.4766688 ],\n",
       "       ...,\n",
       "       [ 1.01260626,  0.0391771 , -0.33502147, ..., -0.22563982,\n",
       "        -0.29557696, -0.22145835],\n",
       "       [ 0.35365015, -0.16269273, -0.51898676, ..., -0.04626337,\n",
       "        -0.4416995 , -0.52597457],\n",
       "       [-0.32673448,  0.19875242, -0.25290754, ...,  0.0046272 ,\n",
       "         0.83779567,  0.21488364]])"
      ]
     },
     "execution_count": 13,
     "metadata": {},
     "output_type": "execute_result"
    }
   ],
   "source": [
    "config1_train_embeddings_filtered"
   ]
  },
  {
   "cell_type": "code",
   "execution_count": 15,
   "id": "f755b80f",
   "metadata": {},
   "outputs": [
    {
     "data": {
      "text/plain": [
       "3223078"
      ]
     },
     "execution_count": 15,
     "metadata": {},
     "output_type": "execute_result"
    }
   ],
   "source": [
    "config1_train_embeddings_filtered.shape[0]"
   ]
  },
  {
   "cell_type": "code",
   "execution_count": 16,
   "id": "c2935efa",
   "metadata": {},
   "outputs": [],
   "source": [
    "from tqdm.notebook import tqdm\n",
    "import pickle"
   ]
  },
  {
   "cell_type": "code",
   "execution_count": 17,
   "id": "1d82db11",
   "metadata": {},
   "outputs": [
    {
     "data": {
      "application/vnd.jupyter.widget-view+json": {
       "model_id": "f374b97743014b149294147b7c250fd7",
       "version_major": 2,
       "version_minor": 0
      },
      "text/plain": [
       "  0%|          | 0/100 [00:00<?, ?it/s]"
      ]
     },
     "metadata": {},
     "output_type": "display_data"
    }
   ],
   "source": [
    "total_num=config1_train_embeddings_filtered.shape[0]\n",
    "split_num=100\n",
    "unit_num=total_num//split_num\n",
    "\n",
    "for i in tqdm(range(split_num)):\n",
    "    dic={}\n",
    "    start=unit_num*i\n",
    "    \n",
    "    if i==99:\n",
    "        end=total_num\n",
    "    else:\n",
    "        end=unit_num*(i+1)\n",
    "        \n",
    "    dic={'idx':idx[start:end],\n",
    "        'embeddings':config1_train_embeddings_filtered[start:end],\n",
    "        'targets':targets[start:end]}\n",
    "    \n",
    "    with open(f'./out_split100/out_tr_filter_{i}.p', 'wb') as handle:\n",
    "        pickle.dump(dic, handle)"
   ]
  },
  {
   "cell_type": "code",
   "execution_count": 18,
   "id": "2be26ff7",
   "metadata": {},
   "outputs": [
    {
     "data": {
      "text/plain": [
       "{'idx': array([3190770, 3190771, 3190772, ..., 3223075, 3223076, 3223077]),\n",
       " 'embeddings': array([[ 0.265504  ,  0.55583251, -0.36087981, ...,  0.12538739,\n",
       "          0.04557478,  0.27489191],\n",
       "        [-0.41380179,  0.08416938,  0.25622481, ..., -0.02443341,\n",
       "         -0.78822869, -0.25966278],\n",
       "        [ 0.07103499, -0.2964066 ,  0.22915561, ..., -0.32925749,\n",
       "         -0.19890943,  0.31845906],\n",
       "        ...,\n",
       "        [ 1.01260626,  0.0391771 , -0.33502147, ..., -0.22563982,\n",
       "         -0.29557696, -0.22145835],\n",
       "        [ 0.35365015, -0.16269273, -0.51898676, ..., -0.04626337,\n",
       "         -0.4416995 , -0.52597457],\n",
       "        [-0.32673448,  0.19875242, -0.25290754, ...,  0.0046272 ,\n",
       "          0.83779567,  0.21488364]]),\n",
       " 'targets': array([150984,  59880, 192594, ..., 191243, 145760,  34698])}"
      ]
     },
     "execution_count": 18,
     "metadata": {},
     "output_type": "execute_result"
    }
   ],
   "source": [
    "dic"
   ]
  },
  {
   "cell_type": "code",
   "execution_count": 14,
   "id": "4a7e6ec2",
   "metadata": {},
   "outputs": [
    {
     "name": "stdout",
     "output_type": "stream",
     "text": [
      "Copying file://./out_split10/out_tr_filter_0.p [Content-Type=text/x-pascal]...\n",
      "Copying file://./out_split10/out_tr_filter_1.p [Content-Type=text/x-pascal]...  \n",
      "Copying file://./out_split10/out_tr_filter_2.p [Content-Type=text/x-pascal]...  \n",
      "Copying file://./out_split10/out_tr_filter_3.p [Content-Type=text/x-pascal]...  \n",
      "==> NOTE: You are uploading one or more large file(s), which would run          \n",
      "significantly faster if you enable parallel composite uploads. This\n",
      "feature can be enabled by editing the\n",
      "\"parallel_composite_upload_threshold\" value in your .boto\n",
      "configuration file. However, note that if you do this large files will\n",
      "be uploaded as `composite objects\n",
      "<https://cloud.google.com/storage/docs/composite-objects>`_,which\n",
      "means that any user who downloads such objects will need to have a\n",
      "compiled crcmod installed (see \"gsutil help crcmod\"). This is because\n",
      "without a compiled crcmod, computing checksums on composite objects is\n",
      "so slow that gsutil disables downloads of composite objects.\n",
      "\n",
      "Copying file://./out_split10/out_tr_filter_4.p [Content-Type=text/x-pascal]...\n",
      "Copying file://./out_split10/out_tr_filter_6.p [Content-Type=text/x-pascal]...  \n",
      "Copying file://./out_split10/out_tr_filter_5.p [Content-Type=text/x-pascal]...  \n",
      "Copying file://./out_split10/out_tr_filter_8.p [Content-Type=text/x-pascal]...\n",
      "Copying file://./out_split10/out_tr_filter_7.p [Content-Type=text/x-pascal]...  \n",
      "Copying file://./out_split10/out_tr_filter_9.p [Content-Type=text/x-pascal]...  \n",
      "- [10/10 files][ 12.3 GiB/ 12.3 GiB] 100% Done 140.4 MiB/s ETA 00:00:00         \n",
      "Operation completed over 10 objects/12.3 GiB.                                    \n"
     ]
    }
   ],
   "source": [
    "# !gsutil -m cp ./out_split100/* gs://kaggle-tropicbird/embeddings/filtered/dic_split100"
   ]
  },
  {
   "cell_type": "markdown",
   "id": "b04fbff9",
   "metadata": {},
   "source": [
    "# 2. Split the full embeddings (4,132,914) into 100 dictionaries for memory saving in the inference process"
   ]
  },
  {
   "cell_type": "code",
   "execution_count": null,
   "id": "a7c1b374",
   "metadata": {},
   "outputs": [],
   "source": [
    "train=pd.read_csv('./input/train.csv')"
   ]
  },
  {
   "cell_type": "code",
   "execution_count": 3,
   "id": "d8cc735f",
   "metadata": {},
   "outputs": [
    {
     "data": {
      "text/html": [
       "<div>\n",
       "<style scoped>\n",
       "    .dataframe tbody tr th:only-of-type {\n",
       "        vertical-align: middle;\n",
       "    }\n",
       "\n",
       "    .dataframe tbody tr th {\n",
       "        vertical-align: top;\n",
       "    }\n",
       "\n",
       "    .dataframe thead th {\n",
       "        text-align: right;\n",
       "    }\n",
       "</style>\n",
       "<table border=\"1\" class=\"dataframe\">\n",
       "  <thead>\n",
       "    <tr style=\"text-align: right;\">\n",
       "      <th></th>\n",
       "      <th>id</th>\n",
       "      <th>url</th>\n",
       "      <th>landmark_id</th>\n",
       "    </tr>\n",
       "  </thead>\n",
       "  <tbody>\n",
       "    <tr>\n",
       "      <th>0</th>\n",
       "      <td>6e158a47eb2ca3f6</td>\n",
       "      <td>https://upload.wikimedia.org/wikipedia/commons...</td>\n",
       "      <td>142820</td>\n",
       "    </tr>\n",
       "    <tr>\n",
       "      <th>1</th>\n",
       "      <td>202cd79556f30760</td>\n",
       "      <td>http://upload.wikimedia.org/wikipedia/commons/...</td>\n",
       "      <td>104169</td>\n",
       "    </tr>\n",
       "    <tr>\n",
       "      <th>2</th>\n",
       "      <td>3ad87684c99c06e1</td>\n",
       "      <td>http://upload.wikimedia.org/wikipedia/commons/...</td>\n",
       "      <td>37914</td>\n",
       "    </tr>\n",
       "    <tr>\n",
       "      <th>3</th>\n",
       "      <td>e7f70e9c61e66af3</td>\n",
       "      <td>https://upload.wikimedia.org/wikipedia/commons...</td>\n",
       "      <td>102140</td>\n",
       "    </tr>\n",
       "    <tr>\n",
       "      <th>4</th>\n",
       "      <td>4072182eddd0100e</td>\n",
       "      <td>https://upload.wikimedia.org/wikipedia/commons...</td>\n",
       "      <td>2474</td>\n",
       "    </tr>\n",
       "    <tr>\n",
       "      <th>...</th>\n",
       "      <td>...</td>\n",
       "      <td>...</td>\n",
       "      <td>...</td>\n",
       "    </tr>\n",
       "    <tr>\n",
       "      <th>4132909</th>\n",
       "      <td>fc0f007893b11ba7</td>\n",
       "      <td>https://upload.wikimedia.org/wikipedia/commons...</td>\n",
       "      <td>172138</td>\n",
       "    </tr>\n",
       "    <tr>\n",
       "      <th>4132910</th>\n",
       "      <td>39aad18585867916</td>\n",
       "      <td>https://upload.wikimedia.org/wikipedia/commons...</td>\n",
       "      <td>162860</td>\n",
       "    </tr>\n",
       "    <tr>\n",
       "      <th>4132911</th>\n",
       "      <td>fd0725460e4ebbec</td>\n",
       "      <td>https://upload.wikimedia.org/wikipedia/commons...</td>\n",
       "      <td>191243</td>\n",
       "    </tr>\n",
       "    <tr>\n",
       "      <th>4132912</th>\n",
       "      <td>73691ae29e24ba19</td>\n",
       "      <td>https://upload.wikimedia.org/wikipedia/commons...</td>\n",
       "      <td>145760</td>\n",
       "    </tr>\n",
       "    <tr>\n",
       "      <th>4132913</th>\n",
       "      <td>8ef8dff6fc4790c2</td>\n",
       "      <td>https://upload.wikimedia.org/wikipedia/commons...</td>\n",
       "      <td>34698</td>\n",
       "    </tr>\n",
       "  </tbody>\n",
       "</table>\n",
       "<p>4132914 rows × 3 columns</p>\n",
       "</div>"
      ],
      "text/plain": [
       "                       id                                                url  \\\n",
       "0        6e158a47eb2ca3f6  https://upload.wikimedia.org/wikipedia/commons...   \n",
       "1        202cd79556f30760  http://upload.wikimedia.org/wikipedia/commons/...   \n",
       "2        3ad87684c99c06e1  http://upload.wikimedia.org/wikipedia/commons/...   \n",
       "3        e7f70e9c61e66af3  https://upload.wikimedia.org/wikipedia/commons...   \n",
       "4        4072182eddd0100e  https://upload.wikimedia.org/wikipedia/commons...   \n",
       "...                   ...                                                ...   \n",
       "4132909  fc0f007893b11ba7  https://upload.wikimedia.org/wikipedia/commons...   \n",
       "4132910  39aad18585867916  https://upload.wikimedia.org/wikipedia/commons...   \n",
       "4132911  fd0725460e4ebbec  https://upload.wikimedia.org/wikipedia/commons...   \n",
       "4132912  73691ae29e24ba19  https://upload.wikimedia.org/wikipedia/commons...   \n",
       "4132913  8ef8dff6fc4790c2  https://upload.wikimedia.org/wikipedia/commons...   \n",
       "\n",
       "         landmark_id  \n",
       "0             142820  \n",
       "1             104169  \n",
       "2              37914  \n",
       "3             102140  \n",
       "4               2474  \n",
       "...              ...  \n",
       "4132909       172138  \n",
       "4132910       162860  \n",
       "4132911       191243  \n",
       "4132912       145760  \n",
       "4132913        34698  \n",
       "\n",
       "[4132914 rows x 3 columns]"
      ]
     },
     "execution_count": 3,
     "metadata": {},
     "output_type": "execute_result"
    }
   ],
   "source": [
    "train"
   ]
  },
  {
   "cell_type": "code",
   "execution_count": 4,
   "id": "af69b9a2",
   "metadata": {},
   "outputs": [],
   "source": [
    "targets=train.landmark_id.values"
   ]
  },
  {
   "cell_type": "code",
   "execution_count": 5,
   "id": "3278b600",
   "metadata": {},
   "outputs": [
    {
     "data": {
      "text/plain": [
       "(4132914,)"
      ]
     },
     "execution_count": 5,
     "metadata": {},
     "output_type": "execute_result"
    }
   ],
   "source": [
    "targets.shape"
   ]
  },
  {
   "cell_type": "code",
   "execution_count": 6,
   "id": "eeefa6f1",
   "metadata": {},
   "outputs": [],
   "source": [
    "idx=np.array(train.index.tolist())"
   ]
  },
  {
   "cell_type": "code",
   "execution_count": 7,
   "id": "99eabe79",
   "metadata": {},
   "outputs": [
    {
     "data": {
      "text/plain": [
       "array([      0,       1,       2, ..., 4132911, 4132912, 4132913])"
      ]
     },
     "execution_count": 7,
     "metadata": {},
     "output_type": "execute_result"
    }
   ],
   "source": [
    "idx"
   ]
  },
  {
   "cell_type": "code",
   "execution_count": 8,
   "id": "3a5ffccb",
   "metadata": {},
   "outputs": [],
   "source": [
    "# embeddings= np.load(\"./input/config1_train_embeddings.npy\")\n",
    "embeddings= np.load(\"./input/config7_train_embeddings.npy\")"
   ]
  },
  {
   "cell_type": "code",
   "execution_count": 9,
   "id": "fc90e015",
   "metadata": {},
   "outputs": [
    {
     "data": {
      "text/plain": [
       "(4132914, 512)"
      ]
     },
     "execution_count": 9,
     "metadata": {},
     "output_type": "execute_result"
    }
   ],
   "source": [
    "embeddings.shape"
   ]
  },
  {
   "cell_type": "code",
   "execution_count": 11,
   "id": "a8dfe324",
   "metadata": {},
   "outputs": [
    {
     "data": {
      "text/plain": [
       "41329"
      ]
     },
     "execution_count": 11,
     "metadata": {},
     "output_type": "execute_result"
    }
   ],
   "source": [
    "4132914//100"
   ]
  },
  {
   "cell_type": "code",
   "execution_count": 13,
   "id": "779a8531",
   "metadata": {},
   "outputs": [
    {
     "data": {
      "application/vnd.jupyter.widget-view+json": {
       "model_id": "6aa712aa9b0242ada9a5c916df09c17d",
       "version_major": 2,
       "version_minor": 0
      },
      "text/plain": [
       "  0%|          | 0/100 [00:00<?, ?it/s]"
      ]
     },
     "metadata": {},
     "output_type": "display_data"
    }
   ],
   "source": [
    "from tqdm.notebook import tqdm\n",
    "import pickle\n",
    "for i in tqdm(range(100)):\n",
    "    dic={}\n",
    "    \n",
    "    start=41329*i\n",
    "    \n",
    "    if i==99:\n",
    "        end=4132914\n",
    "    else:\n",
    "        end=41329*(i+1)\n",
    "        \n",
    "    dic={'idx':idx[start:end],\n",
    "        'embeddings':embeddings[start:end],\n",
    "        'targets':targets[start:end]}\n",
    "    \n",
    "    \n",
    "#     with open(f'./out_split100_full/out_tr_filter_{i}.p', 'wb') as handle:\n",
    "    with open(f'./out_split100_full_config7/out_tr_filter_{i}.p', 'wb') as handle:\n",
    "        pickle.dump(dic, handle)"
   ]
  },
  {
   "cell_type": "code",
   "execution_count": 14,
   "id": "bca8a5eb",
   "metadata": {},
   "outputs": [
    {
     "name": "stdout",
     "output_type": "stream",
     "text": [
      "Copying file://./out_split100_full_config7/out_tr_filter_1.p [Content-Type=text/x-pascal]...\n",
      "Copying file://./out_split100_full_config7/out_tr_filter_0.p [Content-Type=text/x-pascal]...\n",
      "Copying file://./out_split100_full_config7/out_tr_filter_10.p [Content-Type=text/x-pascal]...\n",
      "Copying file://./out_split100_full_config7/out_tr_filter_11.p [Content-Type=text/x-pascal]...\n",
      "Copying file://./out_split100_full_config7/out_tr_filter_12.p [Content-Type=text/x-pascal]...\n",
      "==> NOTE: You are uploading one or more large file(s), which would run          \n",
      "significantly faster if you enable parallel composite uploads. This\n",
      "feature can be enabled by editing the\n",
      "\"parallel_composite_upload_threshold\" value in your .boto\n",
      "configuration file. However, note that if you do this large files will\n",
      "be uploaded as `composite objects\n",
      "<https://cloud.google.com/storage/docs/composite-objects>`_,which\n",
      "means that any user who downloads such objects will need to have a\n",
      "compiled crcmod installed (see \"gsutil help crcmod\"). This is because\n",
      "without a compiled crcmod, computing checksums on composite objects is\n",
      "so slow that gsutil disables downloads of composite objects.\n",
      "\n",
      "Copying file://./out_split100_full_config7/out_tr_filter_13.p [Content-Type=text/x-pascal]...\n",
      "Copying file://./out_split100_full_config7/out_tr_filter_14.p [Content-Type=text/x-pascal]...\n",
      "Copying file://./out_split100_full_config7/out_tr_filter_15.p [Content-Type=text/x-pascal]...\n",
      "Copying file://./out_split100_full_config7/out_tr_filter_16.p [Content-Type=text/x-pascal]...\n",
      "Copying file://./out_split100_full_config7/out_tr_filter_17.p [Content-Type=text/x-pascal]...\n",
      "Copying file://./out_split100_full_config7/out_tr_filter_18.p [Content-Type=text/x-pascal]...\n",
      "Copying file://./out_split100_full_config7/out_tr_filter_20.p [Content-Type=text/x-pascal]...\n",
      "Copying file://./out_split100_full_config7/out_tr_filter_19.p [Content-Type=text/x-pascal]...\n",
      "Copying file://./out_split100_full_config7/out_tr_filter_2.p [Content-Type=text/x-pascal]...\n",
      "Copying file://./out_split100_full_config7/out_tr_filter_21.p [Content-Type=text/x-pascal]...\n",
      "Copying file://./out_split100_full_config7/out_tr_filter_22.p [Content-Type=text/x-pascal]...\n",
      "Copying file://./out_split100_full_config7/out_tr_filter_23.p [Content-Type=text/x-pascal]...\n",
      "Copying file://./out_split100_full_config7/out_tr_filter_25.p [Content-Type=text/x-pascal]...\n",
      "Copying file://./out_split100_full_config7/out_tr_filter_24.p [Content-Type=text/x-pascal]...\n",
      "Copying file://./out_split100_full_config7/out_tr_filter_26.p [Content-Type=text/x-pascal]...\n",
      "Copying file://./out_split100_full_config7/out_tr_filter_38.p [Content-Type=text/x-pascal]...\n",
      "Copying file://./out_split100_full_config7/out_tr_filter_31.p [Content-Type=text/x-pascal]...\n",
      "Copying file://./out_split100_full_config7/out_tr_filter_32.p [Content-Type=text/x-pascal]...\n",
      "Copying file://./out_split100_full_config7/out_tr_filter_27.p [Content-Type=text/x-pascal]...\n",
      "Copying file://./out_split100_full_config7/out_tr_filter_34.p [Content-Type=text/x-pascal]...\n",
      "Copying file://./out_split100_full_config7/out_tr_filter_28.p [Content-Type=text/x-pascal]...\n",
      "Copying file://./out_split100_full_config7/out_tr_filter_37.p [Content-Type=text/x-pascal]...\n",
      "Copying file://./out_split100_full_config7/out_tr_filter_41.p [Content-Type=text/x-pascal]...\n",
      "Copying file://./out_split100_full_config7/out_tr_filter_43.p [Content-Type=text/x-pascal]...\n",
      "Copying file://./out_split100_full_config7/out_tr_filter_42.p [Content-Type=text/x-pascal]...\n",
      "Copying file://./out_split100_full_config7/out_tr_filter_39.p [Content-Type=text/x-pascal]...\n",
      "Copying file://./out_split100_full_config7/out_tr_filter_29.p [Content-Type=text/x-pascal]...\n",
      "Copying file://./out_split100_full_config7/out_tr_filter_4.p [Content-Type=text/x-pascal]...\n",
      "Copying file://./out_split100_full_config7/out_tr_filter_30.p [Content-Type=text/x-pascal]...\n",
      "Copying file://./out_split100_full_config7/out_tr_filter_35.p [Content-Type=text/x-pascal]...\n",
      "Copying file://./out_split100_full_config7/out_tr_filter_3.p [Content-Type=text/x-pascal]...\n",
      "Copying file://./out_split100_full_config7/out_tr_filter_44.p [Content-Type=text/x-pascal]...\n",
      "Copying file://./out_split100_full_config7/out_tr_filter_33.p [Content-Type=text/x-pascal]...\n",
      "Copying file://./out_split100_full_config7/out_tr_filter_36.p [Content-Type=text/x-pascal]...\n",
      "Copying file://./out_split100_full_config7/out_tr_filter_40.p [Content-Type=text/x-pascal]...\n",
      "Copying file://./out_split100_full_config7/out_tr_filter_45.p [Content-Type=text/x-pascal]...\n",
      "Copying file://./out_split100_full_config7/out_tr_filter_46.p [Content-Type=text/x-pascal]...\n",
      "Copying file://./out_split100_full_config7/out_tr_filter_47.p [Content-Type=text/x-pascal]...\n",
      "Copying file://./out_split100_full_config7/out_tr_filter_48.p [Content-Type=text/x-pascal]...\n",
      "Copying file://./out_split100_full_config7/out_tr_filter_49.p [Content-Type=text/x-pascal]...\n",
      "Copying file://./out_split100_full_config7/out_tr_filter_5.p [Content-Type=text/x-pascal]...\n",
      "Copying file://./out_split100_full_config7/out_tr_filter_50.p [Content-Type=text/x-pascal]...\n",
      "Copying file://./out_split100_full_config7/out_tr_filter_51.p [Content-Type=text/x-pascal]...\n",
      "Copying file://./out_split100_full_config7/out_tr_filter_52.p [Content-Type=text/x-pascal]...\n",
      "Copying file://./out_split100_full_config7/out_tr_filter_53.p [Content-Type=text/x-pascal]...\n",
      "Copying file://./out_split100_full_config7/out_tr_filter_54.p [Content-Type=text/x-pascal]...\n",
      "Copying file://./out_split100_full_config7/out_tr_filter_55.p [Content-Type=text/x-pascal]...\n",
      "Copying file://./out_split100_full_config7/out_tr_filter_56.p [Content-Type=text/x-pascal]...\n",
      "Copying file://./out_split100_full_config7/out_tr_filter_57.p [Content-Type=text/x-pascal]...\n",
      "Copying file://./out_split100_full_config7/out_tr_filter_58.p [Content-Type=text/x-pascal]...\n",
      "Copying file://./out_split100_full_config7/out_tr_filter_59.p [Content-Type=text/x-pascal]...\n",
      "Copying file://./out_split100_full_config7/out_tr_filter_6.p [Content-Type=text/x-pascal]...\n",
      "Copying file://./out_split100_full_config7/out_tr_filter_60.p [Content-Type=text/x-pascal]...\n",
      "Copying file://./out_split100_full_config7/out_tr_filter_61.p [Content-Type=text/x-pascal]...\n",
      "Copying file://./out_split100_full_config7/out_tr_filter_62.p [Content-Type=text/x-pascal]...\n",
      "Copying file://./out_split100_full_config7/out_tr_filter_64.p [Content-Type=text/x-pascal]...\n",
      "Copying file://./out_split100_full_config7/out_tr_filter_63.p [Content-Type=text/x-pascal]...\n",
      "Copying file://./out_split100_full_config7/out_tr_filter_65.p [Content-Type=text/x-pascal]...\n",
      "Copying file://./out_split100_full_config7/out_tr_filter_66.p [Content-Type=text/x-pascal]...\n",
      "Copying file://./out_split100_full_config7/out_tr_filter_67.p [Content-Type=text/x-pascal]...\n",
      "Copying file://./out_split100_full_config7/out_tr_filter_68.p [Content-Type=text/x-pascal]...\n",
      "Copying file://./out_split100_full_config7/out_tr_filter_69.p [Content-Type=text/x-pascal]...\n",
      "Copying file://./out_split100_full_config7/out_tr_filter_7.p [Content-Type=text/x-pascal]...\n",
      "Copying file://./out_split100_full_config7/out_tr_filter_70.p [Content-Type=text/x-pascal]...\n",
      "Copying file://./out_split100_full_config7/out_tr_filter_71.p [Content-Type=text/x-pascal]...\n",
      "Copying file://./out_split100_full_config7/out_tr_filter_72.p [Content-Type=text/x-pascal]...\n",
      "Copying file://./out_split100_full_config7/out_tr_filter_73.p [Content-Type=text/x-pascal]...\n",
      "Copying file://./out_split100_full_config7/out_tr_filter_74.p [Content-Type=text/x-pascal]...\n",
      "Copying file://./out_split100_full_config7/out_tr_filter_75.p [Content-Type=text/x-pascal]...\n",
      "Copying file://./out_split100_full_config7/out_tr_filter_76.p [Content-Type=text/x-pascal]...\n",
      "Copying file://./out_split100_full_config7/out_tr_filter_77.p [Content-Type=text/x-pascal]...\n",
      "Copying file://./out_split100_full_config7/out_tr_filter_78.p [Content-Type=text/x-pascal]...\n",
      "Copying file://./out_split100_full_config7/out_tr_filter_79.p [Content-Type=text/x-pascal]...\n",
      "Copying file://./out_split100_full_config7/out_tr_filter_8.p [Content-Type=text/x-pascal]...\n",
      "Copying file://./out_split100_full_config7/out_tr_filter_80.p [Content-Type=text/x-pascal]...\n",
      "Copying file://./out_split100_full_config7/out_tr_filter_81.p [Content-Type=text/x-pascal]...\n",
      "Copying file://./out_split100_full_config7/out_tr_filter_82.p [Content-Type=text/x-pascal]...\n",
      "Copying file://./out_split100_full_config7/out_tr_filter_83.p [Content-Type=text/x-pascal]...\n",
      "Copying file://./out_split100_full_config7/out_tr_filter_84.p [Content-Type=text/x-pascal]...\n",
      "Copying file://./out_split100_full_config7/out_tr_filter_85.p [Content-Type=text/x-pascal]...\n",
      "Copying file://./out_split100_full_config7/out_tr_filter_86.p [Content-Type=text/x-pascal]...\n",
      "Copying file://./out_split100_full_config7/out_tr_filter_87.p [Content-Type=text/x-pascal]...\n",
      "Copying file://./out_split100_full_config7/out_tr_filter_88.p [Content-Type=text/x-pascal]...\n",
      "Copying file://./out_split100_full_config7/out_tr_filter_89.p [Content-Type=text/x-pascal]...\n",
      "Copying file://./out_split100_full_config7/out_tr_filter_9.p [Content-Type=text/x-pascal]...\n",
      "Copying file://./out_split100_full_config7/out_tr_filter_90.p [Content-Type=text/x-pascal]...\n",
      "Copying file://./out_split100_full_config7/out_tr_filter_91.p [Content-Type=text/x-pascal]...\n",
      "Copying file://./out_split100_full_config7/out_tr_filter_93.p [Content-Type=text/x-pascal]...\n",
      "Copying file://./out_split100_full_config7/out_tr_filter_92.p [Content-Type=text/x-pascal]...\n",
      "Copying file://./out_split100_full_config7/out_tr_filter_94.p [Content-Type=text/x-pascal]...\n",
      "Copying file://./out_split100_full_config7/out_tr_filter_95.p [Content-Type=text/x-pascal]...\n",
      "Copying file://./out_split100_full_config7/out_tr_filter_96.p [Content-Type=text/x-pascal]...\n",
      "Copying file://./out_split100_full_config7/out_tr_filter_97.p [Content-Type=text/x-pascal]...\n",
      "Copying file://./out_split100_full_config7/out_tr_filter_98.p [Content-Type=text/x-pascal]...\n",
      "Copying file://./out_split100_full_config7/out_tr_filter_99.p [Content-Type=text/x-pascal]...\n",
      "/ [100/100 files][ 15.8 GiB/ 15.8 GiB] 100% Done 180.2 MiB/s ETA 00:00:00       \n",
      "Operation completed over 100 objects/15.8 GiB.                                   \n"
     ]
    }
   ],
   "source": [
    "!gsutil -m cp ./out_split100_full_config7/* gs://kaggle-tropicbird/embeddings/config7_split100_full"
   ]
  }
 ],
 "metadata": {
  "environment": {
   "name": "common-cpu.m79",
   "type": "gcloud",
   "uri": "gcr.io/deeplearning-platform-release/base-cpu:m79"
  },
  "kernelspec": {
   "display_name": "Python 3",
   "language": "python",
   "name": "python3"
  },
  "language_info": {
   "codemirror_mode": {
    "name": "ipython",
    "version": 3
   },
   "file_extension": ".py",
   "mimetype": "text/x-python",
   "name": "python",
   "nbconvert_exporter": "python",
   "pygments_lexer": "ipython3",
   "version": "3.7.10"
  }
 },
 "nbformat": 4,
 "nbformat_minor": 5
}
