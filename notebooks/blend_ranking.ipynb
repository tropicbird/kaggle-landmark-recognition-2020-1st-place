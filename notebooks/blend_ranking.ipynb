{
 "cells": [
  {
   "cell_type": "code",
   "execution_count": 16,
   "metadata": {},
   "outputs": [],
   "source": [
    "import sys\n",
    "import importlib\n",
    "from types import SimpleNamespace\n",
    "import matplotlib.pyplot as plt\n",
    "from tqdm.notebook import tqdm\n",
    "from scipy.special import softmax\n",
    "from joblib import Parallel, delayed\n",
    "import seaborn as sns\n",
    "import scipy as sp\n",
    "\n",
    "import warnings\n",
    "warnings.filterwarnings(\"ignore\")\n",
    "\n",
    "sys.path.append(\"../src\")\n",
    "sys.path.append(\"../configs\")\n",
    "\n",
    "sys.argv = ['--config', 'config1']\n",
    "\n",
    "from models import *\n",
    "from loss import *\n",
    "from train import *\n",
    "from data import *"
   ]
  },
  {
   "cell_type": "code",
   "execution_count": 2,
   "metadata": {},
   "outputs": [],
   "source": [
    "def cos_similarity_matrix(a, b, eps=1e-8):\n",
    "    a_n, b_n = a.norm(dim=1)[:, None], b.norm(dim=1)[:, None]\n",
    "    a_norm = a / torch.max(a_n, eps * torch.ones_like(a_n))\n",
    "    b_norm = b / torch.max(b_n, eps * torch.ones_like(b_n))\n",
    "    sim_mt = torch.mm(a_norm, b_norm.transpose(0, 1))\n",
    "    return sim_mt\n",
    "def get_topk_cossim(test_emb, tr_emb, batchsize = 64, k=10, device='cuda:0',verbose=True):\n",
    "    tr_emb = torch.tensor(tr_emb, dtype = torch.float32, device=torch.device(device))\n",
    "    test_emb = torch.tensor(test_emb, dtype = torch.float32, device=torch.device(device))\n",
    "    vals = []\n",
    "    inds = []\n",
    "    for test_batch in tqdm(test_emb.split(batchsize),disable=1-verbose):\n",
    "        sim_mat = cos_similarity_matrix(test_batch, tr_emb)\n",
    "        vals_batch, inds_batch = torch.topk(sim_mat, k=k, dim=1)\n",
    "        vals += [vals_batch.detach().cpu()]\n",
    "        inds += [inds_batch.detach().cpu()]\n",
    "    vals = torch.cat(vals)\n",
    "    inds = torch.cat(inds)\n",
    "    return vals, inds\n",
    "def get_topk_cossim_sub(test_emb, tr_emb, vals_x, batchsize = 64, k=10, device='cuda:0',verbose=True):\n",
    "    tr_emb = torch.tensor(tr_emb, dtype = torch.float32, device=torch.device(device))\n",
    "    test_emb = torch.tensor(test_emb, dtype = torch.float32, device=torch.device(device))\n",
    "    vals_x = torch.tensor(vals_x, dtype = torch.float32, device=torch.device(device))\n",
    "    vals = []\n",
    "    inds = []\n",
    "    for test_batch in tqdm(test_emb.split(batchsize),disable=1-verbose):\n",
    "        sim_mat = cos_similarity_matrix(test_batch, tr_emb)\n",
    "        sim_mat = torch.clamp(sim_mat,0,1) - vals_x.repeat(sim_mat.shape[0], 1)\n",
    "        \n",
    "        vals_batch, inds_batch = torch.topk(sim_mat, k=k, dim=1)\n",
    "        vals += [vals_batch.detach().cpu()]\n",
    "        inds += [inds_batch.detach().cpu()]\n",
    "    vals = torch.cat(vals)\n",
    "    inds = torch.cat(inds)\n",
    "    return vals, inds"
   ]
  },
  {
   "cell_type": "code",
   "execution_count": 3,
   "metadata": {},
   "outputs": [],
   "source": [
    "# pick your models\n",
    "models = [\"config1\", \"config2\", \"config3\", \"config4\", \"config5\"]"
   ]
  },
  {
   "cell_type": "code",
   "execution_count": 4,
   "metadata": {},
   "outputs": [],
   "source": [
    "from sklearn.preprocessing import normalize\n",
    "\n",
    "tr_embeddings = []\n",
    "val_embeddings = []\n",
    "nonlandmark_embeddings = []\n",
    "targets = []\n",
    "targets_train = []\n",
    "for m in models:\n",
    "    with open(f\"/home/psinger/projects/kaggle_landmark/blend/{m}/out_val.p\", 'rb') as f:\n",
    "        out_val = pickle.load(f)\n",
    "    with open(f\"/home/psinger/projects/kaggle_landmark/blend/{m}/out_tr_filter.p\", 'rb') as f:\n",
    "        out_tr_filter = pickle.load(f)\n",
    "\n",
    "    uniques = np.unique(out_val[\"idx\"], return_index=True)[1]\n",
    "    for k,v in out_val.items():\n",
    "        if k in [\"embeddings\", \"targets\", \"idx\"]:\n",
    "            out_val[k] = v[uniques]\n",
    "            \n",
    "    uniques = np.unique(out_tr_filter[\"idx\"], return_index=True)[1]\n",
    "    for k,v in out_tr_filter.items():\n",
    "        if k in [\"embeddings\", \"targets\", \"idx\"]:\n",
    "            out_tr_filter[k] = v[uniques]\n",
    "\n",
    "    tr_embeddings_x = out_tr_filter[\"embeddings\"][np.argsort(out_tr_filter[\"idx\"])]\n",
    "    targets_train_x = out_tr_filter[\"targets\"][np.argsort(out_tr_filter[\"idx\"])]\n",
    "    \n",
    "    val_embeddings_x = out_val[\"embeddings\"][np.argsort(out_val[\"idx\"])]\n",
    "    targets_x = out_val[\"targets\"][np.argsort(out_val[\"idx\"])]\n",
    "    \n",
    "    tr_embeddings_x = normalize(tr_embeddings_x, norm=\"l2\")\n",
    "    val_embeddings_x = normalize(val_embeddings_x, norm=\"l2\")\n",
    "\n",
    "    nonlandmark_embeddings_x = val_embeddings_x[targets_x==81313]\n",
    "    \n",
    "    tr_embeddings.append(tr_embeddings_x)\n",
    "    val_embeddings.append(val_embeddings_x)\n",
    "    nonlandmark_embeddings.append(nonlandmark_embeddings_x)\n",
    "    targets.append(targets_x)\n",
    "    targets_train.append(targets_train_x)"
   ]
  },
  {
   "cell_type": "code",
   "execution_count": 5,
   "metadata": {},
   "outputs": [
    {
     "data": {
      "text/plain": [
       "60677"
      ]
     },
     "execution_count": 5,
     "metadata": {},
     "output_type": "execute_result"
    }
   ],
   "source": [
    "len(out_tr_filter[\"targets\"])"
   ]
  },
  {
   "cell_type": "code",
   "execution_count": 6,
   "metadata": {},
   "outputs": [],
   "source": [
    "tr_embeddings = np.hstack(tr_embeddings)\n",
    "val_embeddings = np.hstack(val_embeddings)\n",
    "nonlandmark_embeddings = np.hstack(nonlandmark_embeddings)\n",
    "targets = targets[0]\n",
    "targets_train = targets_train[0]"
   ]
  },
  {
   "cell_type": "code",
   "execution_count": 7,
   "metadata": {},
   "outputs": [],
   "source": [
    "from sklearn.decomposition import PCA\n",
    "from sklearn.preprocessing import StandardScaler, MinMaxScaler, RobustScaler, QuantileTransformer\n",
    "from sklearn.random_projection import GaussianRandomProjection\n",
    "\n",
    "f = QuantileTransformer(output_distribution=\"normal\")\n",
    "\n",
    "f.fit(np.concatenate([val_embeddings],axis=0))\n",
    "\n",
    "tr_embeddings = f.transform(tr_embeddings)\n",
    "val_embeddings = f.transform(val_embeddings)\n",
    "nonlandmark_embeddings = f.transform(nonlandmark_embeddings)"
   ]
  },
  {
   "cell_type": "code",
   "execution_count": 11,
   "metadata": {},
   "outputs": [
    {
     "data": {
      "application/vnd.jupyter.widget-view+json": {
       "model_id": "a2a9228dc0c9424ab95b7aa297be370a",
       "version_major": 2,
       "version_minor": 0
      },
      "text/plain": [
       "HBox(children=(HTML(value=''), FloatProgress(value=0.0, max=949.0), HTML(value='')))"
      ]
     },
     "metadata": {},
     "output_type": "display_data"
    },
    {
     "name": "stdout",
     "output_type": "stream",
     "text": [
      "\n"
     ]
    },
    {
     "data": {
      "application/vnd.jupyter.widget-view+json": {
       "model_id": "c05b6ed8db9349d8aeb51cae38db2f1c",
       "version_major": 2,
       "version_minor": 0
      },
      "text/plain": [
       "HBox(children=(HTML(value=''), FloatProgress(value=0.0, max=1831.0), HTML(value='')))"
      ]
     },
     "metadata": {},
     "output_type": "display_data"
    },
    {
     "name": "stdout",
     "output_type": "stream",
     "text": [
      "\n"
     ]
    },
    {
     "data": {
      "application/vnd.jupyter.widget-view+json": {
       "model_id": "89c47708032f45bb84e8c952b4678b03",
       "version_major": 2,
       "version_minor": 0
      },
      "text/plain": [
       "HBox(children=(HTML(value=''), FloatProgress(value=0.0, max=949.0), HTML(value='')))"
      ]
     },
     "metadata": {},
     "output_type": "display_data"
    },
    {
     "name": "stdout",
     "output_type": "stream",
     "text": [
      "\n"
     ]
    },
    {
     "data": {
      "application/vnd.jupyter.widget-view+json": {
       "model_id": "53e02cd35c8541a3974bc8d90b7a96ed",
       "version_major": 2,
       "version_minor": 0
      },
      "text/plain": [
       "HBox(children=(HTML(value=''), FloatProgress(value=0.0, max=1831.0), HTML(value='')))"
      ]
     },
     "metadata": {},
     "output_type": "display_data"
    },
    {
     "name": "stdout",
     "output_type": "stream",
     "text": [
      "\n"
     ]
    },
    {
     "data": {
      "application/vnd.jupyter.widget-view+json": {
       "model_id": "250494cd8e124a8faeaea67c5b147259",
       "version_major": 2,
       "version_minor": 0
      },
      "text/plain": [
       "HBox(children=(HTML(value=''), FloatProgress(value=0.0, max=949.0), HTML(value='')))"
      ]
     },
     "metadata": {},
     "output_type": "display_data"
    },
    {
     "name": "stdout",
     "output_type": "stream",
     "text": [
      "\n"
     ]
    },
    {
     "data": {
      "application/vnd.jupyter.widget-view+json": {
       "model_id": "c21dfe41871942de97f75971b43d87f1",
       "version_major": 2,
       "version_minor": 0
      },
      "text/plain": [
       "HBox(children=(HTML(value=''), FloatProgress(value=0.0, max=1831.0), HTML(value='')))"
      ]
     },
     "metadata": {},
     "output_type": "display_data"
    },
    {
     "name": "stdout",
     "output_type": "stream",
     "text": [
      "\n"
     ]
    },
    {
     "data": {
      "application/vnd.jupyter.widget-view+json": {
       "model_id": "4949ac3c31d44340aaeedbe77cbcbc64",
       "version_major": 2,
       "version_minor": 0
      },
      "text/plain": [
       "HBox(children=(HTML(value=''), FloatProgress(value=0.0, max=949.0), HTML(value='')))"
      ]
     },
     "metadata": {},
     "output_type": "display_data"
    },
    {
     "name": "stdout",
     "output_type": "stream",
     "text": [
      "\n"
     ]
    },
    {
     "data": {
      "application/vnd.jupyter.widget-view+json": {
       "model_id": "69fe111ea0e44c8cb0fef0e36ade927b",
       "version_major": 2,
       "version_minor": 0
      },
      "text/plain": [
       "HBox(children=(HTML(value=''), FloatProgress(value=0.0, max=1831.0), HTML(value='')))"
      ]
     },
     "metadata": {},
     "output_type": "display_data"
    },
    {
     "name": "stdout",
     "output_type": "stream",
     "text": [
      "\n"
     ]
    },
    {
     "data": {
      "application/vnd.jupyter.widget-view+json": {
       "model_id": "1e973db33e4845b78e99666758a470ac",
       "version_major": 2,
       "version_minor": 0
      },
      "text/plain": [
       "HBox(children=(HTML(value=''), FloatProgress(value=0.0, max=949.0), HTML(value='')))"
      ]
     },
     "metadata": {},
     "output_type": "display_data"
    },
    {
     "name": "stdout",
     "output_type": "stream",
     "text": [
      "\n"
     ]
    },
    {
     "data": {
      "application/vnd.jupyter.widget-view+json": {
       "model_id": "b30bb16f9b344c009041dded8058706c",
       "version_major": 2,
       "version_minor": 0
      },
      "text/plain": [
       "HBox(children=(HTML(value=''), FloatProgress(value=0.0, max=1831.0), HTML(value='')))"
      ]
     },
     "metadata": {},
     "output_type": "display_data"
    },
    {
     "name": "stdout",
     "output_type": "stream",
     "text": [
      "\n"
     ]
    }
   ],
   "source": [
    "# calculate A-B\n",
    "\n",
    "EMB_SIZE = 512\n",
    "vals_blend = []\n",
    "\n",
    "labels_blend = []\n",
    "inds_blend = []\n",
    "for i in range(len(models)):\n",
    "    \n",
    "    vals_nl, inds_nl = get_topk_cossim(tr_embeddings[:,i*EMB_SIZE:(i+1)*EMB_SIZE], nonlandmark_embeddings[:,i*EMB_SIZE:(i+1)*EMB_SIZE], k=5)\n",
    "    vals_nl = vals_nl[:,:].mean(axis=1).detach().cpu().numpy()\n",
    "    \n",
    "    vals, inds = get_topk_cossim_sub(val_embeddings[:,i*EMB_SIZE:(i+1)*EMB_SIZE], tr_embeddings[:,i*EMB_SIZE:(i+1)*EMB_SIZE], vals_nl, k=3)\n",
    "    vals = vals.data.cpu().numpy()\n",
    "    inds = inds.data.cpu().numpy()\n",
    "    labels = np.concatenate([targets_train[inds[:,i]].reshape(-1,1) for i in range(inds.shape[1])], axis=1)\n",
    "    \n",
    "    vals_blend.append(vals)\n",
    "    labels_blend.append(labels)\n",
    "    inds_blend.append(inds)"
   ]
  },
  {
   "cell_type": "code",
   "execution_count": 12,
   "metadata": {},
   "outputs": [],
   "source": [
    "vals = np.concatenate(vals_blend, axis=1)\n",
    "inds = np.concatenate(inds_blend, axis=1)\n",
    "labels = np.concatenate(labels_blend, axis=1)"
   ]
  },
  {
   "cell_type": "code",
   "execution_count": 13,
   "metadata": {},
   "outputs": [
    {
     "data": {
      "application/vnd.jupyter.widget-view+json": {
       "model_id": "27a1838a49b546548192a9a51c21570b",
       "version_major": 2,
       "version_minor": 0
      },
      "text/plain": [
       "HBox(children=(HTML(value=''), FloatProgress(value=0.0, max=117172.0), HTML(value='')))"
      ]
     },
     "metadata": {},
     "output_type": "display_data"
    },
    {
     "name": "stdout",
     "output_type": "stream",
     "text": [
      "\n",
      "0.8832146897975875\n",
      "0.9023401032988307\n"
     ]
    }
   ],
   "source": [
    "# pick most similar images based on sum\n",
    "from collections import defaultdict\n",
    "\n",
    "vals_new = []\n",
    "labels_new = []\n",
    "\n",
    "for i in tqdm(range(len(vals))):\n",
    "    cnts = defaultdict(list)\n",
    "\n",
    "    x = 0\n",
    "    for j,l in enumerate(labels[i,:]):\n",
    "\n",
    "        curr = vals[i][j]\n",
    "\n",
    "        cnts[l].append(curr)\n",
    "\n",
    "    for k,v in cnts.items():\n",
    "        cnts[k] = np.sum(v)\n",
    "        \n",
    "    labels_new.append(max(cnts, key=cnts.get))\n",
    "    vals_new.append(cnts[labels_new[-1]])\n",
    "        \n",
    "l = np.array(labels_new).reshape(-1)\n",
    "v = np.array(vals_new).reshape(-1)\n",
    "\n",
    "val_score = comp_metric(targets, [l, v], ignore_non_landmarks=False)\n",
    "print(val_score)\n",
    "val_score = comp_metric(targets, [l, v], ignore_non_landmarks=True)\n",
    "print(val_score)"
   ]
  },
  {
   "cell_type": "code",
   "execution_count": 21,
   "metadata": {},
   "outputs": [
    {
     "data": {
      "text/plain": [
       "<AxesSubplot:ylabel='Density'>"
      ]
     },
     "execution_count": 21,
     "metadata": {},
     "output_type": "execute_result"
    },
    {
     "data": {
      "image/png": "[encoded data removed]",
      "text/plain": [
       "<Figure size 432x288 with 1 Axes>"
      ]
     },
     "metadata": {
      "needs_background": "light"
     },
     "output_type": "display_data"
    }
   ],
   "source": [
    "sns.distplot(v)"
   ]
  },
  {
   "cell_type": "code",
   "execution_count": 22,
   "metadata": {},
   "outputs": [],
   "source": [
    "vals_2, inds_2 = get_topk_cossim(val_embeddings, nonlandmark_embeddings, k=11)\n",
    "# starting from index 1 on val as index 0 is the same image\n",
    "vals_2 = vals_2[:,1:].mean(axis=1).detach().cpu().numpy()"
   ]
  },
  {
   "cell_type": "code",
   "execution_count": 24,
   "metadata": {},
   "outputs": [
    {
     "name": "stdout",
     "output_type": "stream",
     "text": [
      "0.8838247544286192\n",
      "0.9023626089331723\n"
     ]
    }
   ],
   "source": [
    "# penalize by C\n",
    "import scipy as sp\n",
    "\n",
    "l3 = pd.Series(l.copy()).reset_index(drop=True)\n",
    "v3 = v.copy()\n",
    "\n",
    "v3 -= 1*vals_2\n",
    "\n",
    "val_score = comp_metric(out_val[\"targets\"][:], [l3[:], v3[:]], ignore_non_landmarks=False)\n",
    "print(val_score)\n",
    "val_score = comp_metric(out_val[\"targets\"][:], [l3[:], v3[:]], ignore_non_landmarks=True)\n",
    "print(val_score)"
   ]
  },
  {
   "cell_type": "code",
   "execution_count": 27,
   "metadata": {},
   "outputs": [
    {
     "data": {
      "text/plain": [
       "<AxesSubplot:ylabel='Density'>"
      ]
     },
     "execution_count": 27,
     "metadata": {},
     "output_type": "execute_result"
    },
    {
     "data": {
      "image/png": "[encoded data removed]",
      "text/plain": [
       "<Figure size 432x288 with 1 Axes>"
      ]
     },
     "metadata": {
      "needs_background": "light"
     },
     "output_type": "display_data"
    }
   ],
   "source": [
    "sns.distplot(v3)"
   ]
  },
  {
   "cell_type": "code",
   "execution_count": null,
   "metadata": {},
   "outputs": [],
   "source": []
  }
 ],
 "metadata": {
  "kernelspec": {
   "display_name": "Python 3 (ipykernel)",
   "language": "python",
   "name": "python3"
  },
  "language_info": {
   "codemirror_mode": {
    "name": "ipython",
    "version": 3
   },
   "file_extension": ".py",
   "mimetype": "text/x-python",
   "name": "python",
   "nbconvert_exporter": "python",
   "pygments_lexer": "ipython3",
   "version": "3.7.10"
  }
 },
 "nbformat": 4,
 "nbformat_minor": 4
}
